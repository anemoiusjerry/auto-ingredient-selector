{
 "cells": [
  {
   "cell_type": "code",
   "execution_count": 1,
   "metadata": {},
   "outputs": [],
   "source": [
    "import sqlalchemy as db"
   ]
  },
  {
   "cell_type": "code",
   "execution_count": 2,
   "metadata": {},
   "outputs": [],
   "source": [
    "# Path to database\n",
    "db_file = \"C:/users/jerry/Desktop/RestoredToEden.db\"\n",
    "\n",
    "# Set up SQLAlchemy connection\n",
    "engine = db.create_engine('sqlite:///' + db_file)\n",
    "cnxn = engine.connect()\n",
    "\n",
    "metadata = db.MetaData()\n",
    "metadata.reflect(cnxn)\n",
    "\n",
    "InformationSheet = metadata.tables['InformationSheet']"
   ]
  },
  {
   "cell_type": "code",
   "execution_count": 3,
   "metadata": {},
   "outputs": [
    {
     "data": {
      "text/plain": [
       "dict_values(['Simple instructions can be found on each product. [customer name], [detailed description inserted here from file]', 'It is recommended that you strip back your skincare routine to the basics and start with a blank slate. It is also recommended that you do not use other new skincare products while you are testing our products on your skin. The reason for this is you will not really know which of the products caused a reaction if you introduce too many at one time. If you usually do not have a problem with reactions on your skin, you should not have a reaction.', 'Store below 25 degrees celsius. Keep out of direct sunlight. Store in a dry place. Do not allow water to enter your product.', 'dwwd', 'We go to great lengths to hand select every ingredient. Please do not hesitate to let us know if you are not having the desired effect after using this product for the first 6 weeks. We will ensure that we analyse your needs further and make the necessary adjustments to your formulation. ', 'This blend must be used within. months of blending. Date Blended: [date blended] Best Before Date: [best before date]'])"
      ]
     },
     "execution_count": 3,
     "metadata": {},
     "output_type": "execute_result"
    }
   ],
   "source": [
    "def get_table_contents(table):\n",
    "    \"\"\" inputs: table containing items to query\n",
    "        returns: dict of {col headings: col values}\n",
    "    \"\"\"\n",
    "    query = db.select([table])\n",
    "    headings = cnxn.execute(query).keys()\n",
    "    query = db.select([table])\n",
    "    values = cnxn.execute(query).fetchone()\n",
    "\n",
    "    contents = {}\n",
    "    # Create dict struct\n",
    "    for i in range(len(headings)):\n",
    "        contents[headings[i]] = values[i]\n",
    "\n",
    "    return contents\n",
    "\n",
    "get_table_contents(InformationSheet).values()"
   ]
  },
  {
   "cell_type": "code",
   "execution_count": 4,
   "metadata": {},
   "outputs": [
    {
     "data": {
      "text/plain": [
       "['Recommendations For Use',\n",
       " 'For Best Results',\n",
       " 'Care & Storage Instructions',\n",
       " 'Directions & Warnings Before Use',\n",
       " 'Our promises to you',\n",
       " 'Used By & Best Before Date']"
      ]
     },
     "execution_count": 4,
     "metadata": {},
     "output_type": "execute_result"
    }
   ],
   "source": [
    "def get_col_names(table):\n",
    "    query = db.select([table])\n",
    "    return cnxn.execute(query).keys()\n",
    "\n",
    "get_col_names(InformationSheet)"
   ]
  },
  {
   "cell_type": "code",
   "execution_count": 5,
   "metadata": {},
   "outputs": [],
   "source": [
    "def insert_query(table, data):\n",
    "    \"\"\" data: dictionary of column name and its value\n",
    "    \"\"\"\n",
    "    query = table.insert().values(data)\n",
    "    cnxn.execute(query)\n",
    "    \n",
    "def update_query(table, data):\n",
    "    query = db.update(table).values(data)\n",
    "    cnxn.execute(query)\n",
    "    "
   ]
  },
  {
   "cell_type": "code",
   "execution_count": 6,
   "metadata": {},
   "outputs": [],
   "source": [
    "data = {\"Recommendations For Use\": \"Simple instructions can be found on each product.  [customer name], [detailed description inserted here from file]\",\n",
    "        \"For Best Results\": \"It is recommended that you strip back your skincare routine to the basics and start with a blank slate.  It is also recommended that you do not use other new skincare products while you are testing our products on your skin.  The reason for this is you will not really know which of the products caused a reaction if you introduce too many at one time.  If you usually do not have a problem with reactions on your skin, you should not have a reaction.\",\n",
    "        \"Care & Storage Instructions\": \"Store below 25 degrees celsius.  Keep out of direct sunlight.  Store in a dry place.  Do not allow water to enter your product.\",\n",
    "        \"Directions & Warnings Before Use\": \"Store below 25 degrees celsius.  Keep out of direct sunlight.  Store in a dry place.  Do not allow water to enter your product.\",\n",
    "        \"Our promises to you\": \"We go to great lengths to hand select every ingredient.  Please do not hesitate to let us know if you are not having the desired effect after using this product for the first 6 weeks.  We will ensure that we analyse your needs further and make the necessary adjustments to your formulation.\\nWe select only natural and organic ingredients in order to formulate products that are not only gentle on your skin but are also effective.  Each of our ingredients goes through a selection process to ensure the highest quality.\\nPlease do not hesitate to contact us if you have any questions or concerns about any of our products.  We would be happy to help.\",\n",
    "        \"Used By & Best Before Date\": \"This blend must be used within …. months of blending.\\nDate Blended: [date blended]\\nBest Before Date: [best before date]\"\n",
    "       }\n",
    "\n",
    "update_query(InformationSheet, data)"
   ]
  },
  {
   "cell_type": "code",
   "execution_count": 7,
   "metadata": {},
   "outputs": [
    {
     "data": {
      "text/plain": [
       "'This blend must be used within …. months of blending.\\nDate Blended: [date blended]\\nBest Before Date: [best before date]'"
      ]
     },
     "execution_count": 7,
     "metadata": {},
     "output_type": "execute_result"
    }
   ],
   "source": [
    "query = db.select([InformationSheet])\n",
    "paragraphs = cnxn.execute(query).fetchone()\n",
    "col_names = get_col_names(InformationSheet)\n",
    "\n",
    "paragraphs[-1]"
   ]
  },
  {
   "cell_type": "code",
   "execution_count": 9,
   "metadata": {
    "scrolled": true
   },
   "outputs": [
    {
     "name": "stdout",
     "output_type": "stream",
     "text": [
      "new_column_name\n",
      "TEXT\n"
     ]
    },
    {
     "ename": "OperationalError",
     "evalue": "(sqlite3.OperationalError) duplicate column name: new_column_name\n[SQL: ALTER TABLE InformationSheet ADD COLUMN new_column_name TEXT]\n(Background on this error at: http://sqlalche.me/e/e3q8)",
     "output_type": "error",
     "traceback": [
      "\u001b[1;31m---------------------------------------------------------------------------\u001b[0m",
      "\u001b[1;31mOperationalError\u001b[0m                          Traceback (most recent call last)",
      "\u001b[1;32mc:\\users\\jerry\\appdata\\local\\programs\\python\\python37\\lib\\site-packages\\sqlalchemy\\engine\\base.py\u001b[0m in \u001b[0;36m_execute_context\u001b[1;34m(self, dialect, constructor, statement, parameters, *args)\u001b[0m\n\u001b[0;32m   1247\u001b[0m                     self.dialect.do_execute(\n\u001b[1;32m-> 1248\u001b[1;33m                         \u001b[0mcursor\u001b[0m\u001b[1;33m,\u001b[0m \u001b[0mstatement\u001b[0m\u001b[1;33m,\u001b[0m \u001b[0mparameters\u001b[0m\u001b[1;33m,\u001b[0m \u001b[0mcontext\u001b[0m\u001b[1;33m\u001b[0m\u001b[1;33m\u001b[0m\u001b[0m\n\u001b[0m\u001b[0;32m   1249\u001b[0m                     )\n",
      "\u001b[1;32mc:\\users\\jerry\\appdata\\local\\programs\\python\\python37\\lib\\site-packages\\sqlalchemy\\engine\\default.py\u001b[0m in \u001b[0;36mdo_execute\u001b[1;34m(self, cursor, statement, parameters, context)\u001b[0m\n\u001b[0;32m    589\u001b[0m     \u001b[1;32mdef\u001b[0m \u001b[0mdo_execute\u001b[0m\u001b[1;33m(\u001b[0m\u001b[0mself\u001b[0m\u001b[1;33m,\u001b[0m \u001b[0mcursor\u001b[0m\u001b[1;33m,\u001b[0m \u001b[0mstatement\u001b[0m\u001b[1;33m,\u001b[0m \u001b[0mparameters\u001b[0m\u001b[1;33m,\u001b[0m \u001b[0mcontext\u001b[0m\u001b[1;33m=\u001b[0m\u001b[1;32mNone\u001b[0m\u001b[1;33m)\u001b[0m\u001b[1;33m:\u001b[0m\u001b[1;33m\u001b[0m\u001b[1;33m\u001b[0m\u001b[0m\n\u001b[1;32m--> 590\u001b[1;33m         \u001b[0mcursor\u001b[0m\u001b[1;33m.\u001b[0m\u001b[0mexecute\u001b[0m\u001b[1;33m(\u001b[0m\u001b[0mstatement\u001b[0m\u001b[1;33m,\u001b[0m \u001b[0mparameters\u001b[0m\u001b[1;33m)\u001b[0m\u001b[1;33m\u001b[0m\u001b[1;33m\u001b[0m\u001b[0m\n\u001b[0m\u001b[0;32m    591\u001b[0m \u001b[1;33m\u001b[0m\u001b[0m\n",
      "\u001b[1;31mOperationalError\u001b[0m: duplicate column name: new_column_name",
      "\nThe above exception was the direct cause of the following exception:\n",
      "\u001b[1;31mOperationalError\u001b[0m                          Traceback (most recent call last)",
      "\u001b[1;32m<ipython-input-9-8dd693506ee0>\u001b[0m in \u001b[0;36m<module>\u001b[1;34m\u001b[0m\n\u001b[0;32m      7\u001b[0m \u001b[1;33m\u001b[0m\u001b[0m\n\u001b[0;32m      8\u001b[0m \u001b[0mcolumn\u001b[0m \u001b[1;33m=\u001b[0m \u001b[0mdb\u001b[0m\u001b[1;33m.\u001b[0m\u001b[0mColumn\u001b[0m\u001b[1;33m(\u001b[0m\u001b[1;34m'new_column_name'\u001b[0m\u001b[1;33m,\u001b[0m \u001b[0mdb\u001b[0m\u001b[1;33m.\u001b[0m\u001b[0mText\u001b[0m\u001b[1;33m)\u001b[0m\u001b[1;33m\u001b[0m\u001b[1;33m\u001b[0m\u001b[0m\n\u001b[1;32m----> 9\u001b[1;33m \u001b[0madd_column\u001b[0m\u001b[1;33m(\u001b[0m\u001b[1;34m\"InformationSheet\"\u001b[0m\u001b[1;33m,\u001b[0m \u001b[0mcolumn\u001b[0m\u001b[1;33m)\u001b[0m\u001b[1;33m\u001b[0m\u001b[1;33m\u001b[0m\u001b[0m\n\u001b[0m",
      "\u001b[1;32m<ipython-input-9-8dd693506ee0>\u001b[0m in \u001b[0;36madd_column\u001b[1;34m(table_name, column)\u001b[0m\n\u001b[0;32m      4\u001b[0m     \u001b[0mprint\u001b[0m\u001b[1;33m(\u001b[0m\u001b[0mstr\u001b[0m\u001b[1;33m(\u001b[0m\u001b[0mcolumn_name\u001b[0m\u001b[1;33m)\u001b[0m\u001b[1;33m)\u001b[0m\u001b[1;33m\u001b[0m\u001b[1;33m\u001b[0m\u001b[0m\n\u001b[0;32m      5\u001b[0m     \u001b[0mprint\u001b[0m\u001b[1;33m(\u001b[0m\u001b[0mcolumn_type\u001b[0m\u001b[1;33m)\u001b[0m\u001b[1;33m\u001b[0m\u001b[1;33m\u001b[0m\u001b[0m\n\u001b[1;32m----> 6\u001b[1;33m     \u001b[0mcnxn\u001b[0m\u001b[1;33m.\u001b[0m\u001b[0mexecute\u001b[0m\u001b[1;33m(\u001b[0m\u001b[1;34m'ALTER TABLE %s ADD COLUMN %s %s'\u001b[0m \u001b[1;33m%\u001b[0m \u001b[1;33m(\u001b[0m\u001b[0mtable_name\u001b[0m\u001b[1;33m,\u001b[0m \u001b[0mcolumn_name\u001b[0m\u001b[1;33m,\u001b[0m \u001b[0mcolumn_type\u001b[0m\u001b[1;33m)\u001b[0m\u001b[1;33m)\u001b[0m\u001b[1;33m\u001b[0m\u001b[1;33m\u001b[0m\u001b[0m\n\u001b[0m\u001b[0;32m      7\u001b[0m \u001b[1;33m\u001b[0m\u001b[0m\n\u001b[0;32m      8\u001b[0m \u001b[0mcolumn\u001b[0m \u001b[1;33m=\u001b[0m \u001b[0mdb\u001b[0m\u001b[1;33m.\u001b[0m\u001b[0mColumn\u001b[0m\u001b[1;33m(\u001b[0m\u001b[1;34m'new_column_name'\u001b[0m\u001b[1;33m,\u001b[0m \u001b[0mdb\u001b[0m\u001b[1;33m.\u001b[0m\u001b[0mText\u001b[0m\u001b[1;33m)\u001b[0m\u001b[1;33m\u001b[0m\u001b[1;33m\u001b[0m\u001b[0m\n",
      "\u001b[1;32mc:\\users\\jerry\\appdata\\local\\programs\\python\\python37\\lib\\site-packages\\sqlalchemy\\engine\\base.py\u001b[0m in \u001b[0;36mexecute\u001b[1;34m(self, object_, *multiparams, **params)\u001b[0m\n\u001b[0;32m    974\u001b[0m         \"\"\"\n\u001b[0;32m    975\u001b[0m         \u001b[1;32mif\u001b[0m \u001b[0misinstance\u001b[0m\u001b[1;33m(\u001b[0m\u001b[0mobject_\u001b[0m\u001b[1;33m,\u001b[0m \u001b[0mutil\u001b[0m\u001b[1;33m.\u001b[0m\u001b[0mstring_types\u001b[0m\u001b[1;33m[\u001b[0m\u001b[1;36m0\u001b[0m\u001b[1;33m]\u001b[0m\u001b[1;33m)\u001b[0m\u001b[1;33m:\u001b[0m\u001b[1;33m\u001b[0m\u001b[1;33m\u001b[0m\u001b[0m\n\u001b[1;32m--> 976\u001b[1;33m             \u001b[1;32mreturn\u001b[0m \u001b[0mself\u001b[0m\u001b[1;33m.\u001b[0m\u001b[0m_execute_text\u001b[0m\u001b[1;33m(\u001b[0m\u001b[0mobject_\u001b[0m\u001b[1;33m,\u001b[0m \u001b[0mmultiparams\u001b[0m\u001b[1;33m,\u001b[0m \u001b[0mparams\u001b[0m\u001b[1;33m)\u001b[0m\u001b[1;33m\u001b[0m\u001b[1;33m\u001b[0m\u001b[0m\n\u001b[0m\u001b[0;32m    977\u001b[0m         \u001b[1;32mtry\u001b[0m\u001b[1;33m:\u001b[0m\u001b[1;33m\u001b[0m\u001b[1;33m\u001b[0m\u001b[0m\n\u001b[0;32m    978\u001b[0m             \u001b[0mmeth\u001b[0m \u001b[1;33m=\u001b[0m \u001b[0mobject_\u001b[0m\u001b[1;33m.\u001b[0m\u001b[0m_execute_on_connection\u001b[0m\u001b[1;33m\u001b[0m\u001b[1;33m\u001b[0m\u001b[0m\n",
      "\u001b[1;32mc:\\users\\jerry\\appdata\\local\\programs\\python\\python37\\lib\\site-packages\\sqlalchemy\\engine\\base.py\u001b[0m in \u001b[0;36m_execute_text\u001b[1;34m(self, statement, multiparams, params)\u001b[0m\n\u001b[0;32m   1149\u001b[0m             \u001b[0mparameters\u001b[0m\u001b[1;33m,\u001b[0m\u001b[1;33m\u001b[0m\u001b[1;33m\u001b[0m\u001b[0m\n\u001b[0;32m   1150\u001b[0m             \u001b[0mstatement\u001b[0m\u001b[1;33m,\u001b[0m\u001b[1;33m\u001b[0m\u001b[1;33m\u001b[0m\u001b[0m\n\u001b[1;32m-> 1151\u001b[1;33m             \u001b[0mparameters\u001b[0m\u001b[1;33m,\u001b[0m\u001b[1;33m\u001b[0m\u001b[1;33m\u001b[0m\u001b[0m\n\u001b[0m\u001b[0;32m   1152\u001b[0m         )\n\u001b[0;32m   1153\u001b[0m         \u001b[1;32mif\u001b[0m \u001b[0mself\u001b[0m\u001b[1;33m.\u001b[0m\u001b[0m_has_events\u001b[0m \u001b[1;32mor\u001b[0m \u001b[0mself\u001b[0m\u001b[1;33m.\u001b[0m\u001b[0mengine\u001b[0m\u001b[1;33m.\u001b[0m\u001b[0m_has_events\u001b[0m\u001b[1;33m:\u001b[0m\u001b[1;33m\u001b[0m\u001b[1;33m\u001b[0m\u001b[0m\n",
      "\u001b[1;32mc:\\users\\jerry\\appdata\\local\\programs\\python\\python37\\lib\\site-packages\\sqlalchemy\\engine\\base.py\u001b[0m in \u001b[0;36m_execute_context\u001b[1;34m(self, dialect, constructor, statement, parameters, *args)\u001b[0m\n\u001b[0;32m   1286\u001b[0m         \u001b[1;32mexcept\u001b[0m \u001b[0mBaseException\u001b[0m \u001b[1;32mas\u001b[0m \u001b[0me\u001b[0m\u001b[1;33m:\u001b[0m\u001b[1;33m\u001b[0m\u001b[1;33m\u001b[0m\u001b[0m\n\u001b[0;32m   1287\u001b[0m             self._handle_dbapi_exception(\n\u001b[1;32m-> 1288\u001b[1;33m                 \u001b[0me\u001b[0m\u001b[1;33m,\u001b[0m \u001b[0mstatement\u001b[0m\u001b[1;33m,\u001b[0m \u001b[0mparameters\u001b[0m\u001b[1;33m,\u001b[0m \u001b[0mcursor\u001b[0m\u001b[1;33m,\u001b[0m \u001b[0mcontext\u001b[0m\u001b[1;33m\u001b[0m\u001b[1;33m\u001b[0m\u001b[0m\n\u001b[0m\u001b[0;32m   1289\u001b[0m             )\n\u001b[0;32m   1290\u001b[0m \u001b[1;33m\u001b[0m\u001b[0m\n",
      "\u001b[1;32mc:\\users\\jerry\\appdata\\local\\programs\\python\\python37\\lib\\site-packages\\sqlalchemy\\engine\\base.py\u001b[0m in \u001b[0;36m_handle_dbapi_exception\u001b[1;34m(self, e, statement, parameters, cursor, context)\u001b[0m\n\u001b[0;32m   1480\u001b[0m             \u001b[1;32melif\u001b[0m \u001b[0mshould_wrap\u001b[0m\u001b[1;33m:\u001b[0m\u001b[1;33m\u001b[0m\u001b[1;33m\u001b[0m\u001b[0m\n\u001b[0;32m   1481\u001b[0m                 util.raise_(\n\u001b[1;32m-> 1482\u001b[1;33m                     \u001b[0msqlalchemy_exception\u001b[0m\u001b[1;33m,\u001b[0m \u001b[0mwith_traceback\u001b[0m\u001b[1;33m=\u001b[0m\u001b[0mexc_info\u001b[0m\u001b[1;33m[\u001b[0m\u001b[1;36m2\u001b[0m\u001b[1;33m]\u001b[0m\u001b[1;33m,\u001b[0m \u001b[0mfrom_\u001b[0m\u001b[1;33m=\u001b[0m\u001b[0me\u001b[0m\u001b[1;33m\u001b[0m\u001b[1;33m\u001b[0m\u001b[0m\n\u001b[0m\u001b[0;32m   1483\u001b[0m                 )\n\u001b[0;32m   1484\u001b[0m             \u001b[1;32melse\u001b[0m\u001b[1;33m:\u001b[0m\u001b[1;33m\u001b[0m\u001b[1;33m\u001b[0m\u001b[0m\n",
      "\u001b[1;32mc:\\users\\jerry\\appdata\\local\\programs\\python\\python37\\lib\\site-packages\\sqlalchemy\\util\\compat.py\u001b[0m in \u001b[0;36mraise_\u001b[1;34m(***failed resolving arguments***)\u001b[0m\n\u001b[0;32m    176\u001b[0m \u001b[1;33m\u001b[0m\u001b[0m\n\u001b[0;32m    177\u001b[0m         \u001b[1;32mtry\u001b[0m\u001b[1;33m:\u001b[0m\u001b[1;33m\u001b[0m\u001b[1;33m\u001b[0m\u001b[0m\n\u001b[1;32m--> 178\u001b[1;33m             \u001b[1;32mraise\u001b[0m \u001b[0mexception\u001b[0m\u001b[1;33m\u001b[0m\u001b[1;33m\u001b[0m\u001b[0m\n\u001b[0m\u001b[0;32m    179\u001b[0m         \u001b[1;32mfinally\u001b[0m\u001b[1;33m:\u001b[0m\u001b[1;33m\u001b[0m\u001b[1;33m\u001b[0m\u001b[0m\n\u001b[0;32m    180\u001b[0m             \u001b[1;31m# credit to\u001b[0m\u001b[1;33m\u001b[0m\u001b[1;33m\u001b[0m\u001b[1;33m\u001b[0m\u001b[0m\n",
      "\u001b[1;32mc:\\users\\jerry\\appdata\\local\\programs\\python\\python37\\lib\\site-packages\\sqlalchemy\\engine\\base.py\u001b[0m in \u001b[0;36m_execute_context\u001b[1;34m(self, dialect, constructor, statement, parameters, *args)\u001b[0m\n\u001b[0;32m   1246\u001b[0m                 \u001b[1;32mif\u001b[0m \u001b[1;32mnot\u001b[0m \u001b[0mevt_handled\u001b[0m\u001b[1;33m:\u001b[0m\u001b[1;33m\u001b[0m\u001b[1;33m\u001b[0m\u001b[0m\n\u001b[0;32m   1247\u001b[0m                     self.dialect.do_execute(\n\u001b[1;32m-> 1248\u001b[1;33m                         \u001b[0mcursor\u001b[0m\u001b[1;33m,\u001b[0m \u001b[0mstatement\u001b[0m\u001b[1;33m,\u001b[0m \u001b[0mparameters\u001b[0m\u001b[1;33m,\u001b[0m \u001b[0mcontext\u001b[0m\u001b[1;33m\u001b[0m\u001b[1;33m\u001b[0m\u001b[0m\n\u001b[0m\u001b[0;32m   1249\u001b[0m                     )\n\u001b[0;32m   1250\u001b[0m \u001b[1;33m\u001b[0m\u001b[0m\n",
      "\u001b[1;32mc:\\users\\jerry\\appdata\\local\\programs\\python\\python37\\lib\\site-packages\\sqlalchemy\\engine\\default.py\u001b[0m in \u001b[0;36mdo_execute\u001b[1;34m(self, cursor, statement, parameters, context)\u001b[0m\n\u001b[0;32m    588\u001b[0m \u001b[1;33m\u001b[0m\u001b[0m\n\u001b[0;32m    589\u001b[0m     \u001b[1;32mdef\u001b[0m \u001b[0mdo_execute\u001b[0m\u001b[1;33m(\u001b[0m\u001b[0mself\u001b[0m\u001b[1;33m,\u001b[0m \u001b[0mcursor\u001b[0m\u001b[1;33m,\u001b[0m \u001b[0mstatement\u001b[0m\u001b[1;33m,\u001b[0m \u001b[0mparameters\u001b[0m\u001b[1;33m,\u001b[0m \u001b[0mcontext\u001b[0m\u001b[1;33m=\u001b[0m\u001b[1;32mNone\u001b[0m\u001b[1;33m)\u001b[0m\u001b[1;33m:\u001b[0m\u001b[1;33m\u001b[0m\u001b[1;33m\u001b[0m\u001b[0m\n\u001b[1;32m--> 590\u001b[1;33m         \u001b[0mcursor\u001b[0m\u001b[1;33m.\u001b[0m\u001b[0mexecute\u001b[0m\u001b[1;33m(\u001b[0m\u001b[0mstatement\u001b[0m\u001b[1;33m,\u001b[0m \u001b[0mparameters\u001b[0m\u001b[1;33m)\u001b[0m\u001b[1;33m\u001b[0m\u001b[1;33m\u001b[0m\u001b[0m\n\u001b[0m\u001b[0;32m    591\u001b[0m \u001b[1;33m\u001b[0m\u001b[0m\n\u001b[0;32m    592\u001b[0m     \u001b[1;32mdef\u001b[0m \u001b[0mdo_execute_no_params\u001b[0m\u001b[1;33m(\u001b[0m\u001b[0mself\u001b[0m\u001b[1;33m,\u001b[0m \u001b[0mcursor\u001b[0m\u001b[1;33m,\u001b[0m \u001b[0mstatement\u001b[0m\u001b[1;33m,\u001b[0m \u001b[0mcontext\u001b[0m\u001b[1;33m=\u001b[0m\u001b[1;32mNone\u001b[0m\u001b[1;33m)\u001b[0m\u001b[1;33m:\u001b[0m\u001b[1;33m\u001b[0m\u001b[1;33m\u001b[0m\u001b[0m\n",
      "\u001b[1;31mOperationalError\u001b[0m: (sqlite3.OperationalError) duplicate column name: new_column_name\n[SQL: ALTER TABLE InformationSheet ADD COLUMN new_column_name TEXT]\n(Background on this error at: http://sqlalche.me/e/e3q8)"
     ]
    }
   ],
   "source": [
    "def add_column(table_name, column):\n",
    "    column_name = column.compile(dialect=engine.dialect)\n",
    "    column_type = column.type.compile(engine.dialect)\n",
    "    print(str(column_name))\n",
    "    print(column_type)\n",
    "    cnxn.execute('ALTER TABLE %s ADD COLUMN %s %s' % (table_name, column_name, column_type))\n",
    "\n",
    "column = db.Column('new_column_name', db.Text)\n",
    "add_column(\"InformationSheet\", column)"
   ]
  },
  {
   "cell_type": "code",
   "execution_count": 72,
   "metadata": {},
   "outputs": [],
   "source": [
    "import copy\n",
    "# Delete column\n",
    "metadata = db.MetaData()\n",
    "metadata.reflect(cnxn)\n",
    "InformationSheet = metadata.tables['InformationSheet']\n",
    "\n",
    "# Get columns to keep\n",
    "col_drop = [\"new_column_name\", \"Field8\"]\n",
    "new_cols = []\n",
    "for column in InformationSheet.columns:\n",
    "    if not (column.name in col_drop):\n",
    "        column_copy = copy.deepcopy(column)\n",
    "        column_copy.table = None\n",
    "        new_cols.append(column_copy)\n",
    "\n",
    "# Save data to keep\n",
    "new_content = get_table_contents(InformationSheet)\n",
    "del new_content[\"Field8\"]\n",
    "del new_content[\"new_column_name\"]\n",
    "\n",
    "#new_table = db.Table(\"copy\", metadata, *(column for column in new_cols))"
   ]
  },
  {
   "cell_type": "code",
   "execution_count": 73,
   "metadata": {},
   "outputs": [
    {
     "data": {
      "text/plain": [
       "dict_items([('Recommendations For Use', 'Simple instructions can be found on each product.  [customer name], [detailed description inserted here from file]'), ('For Best Results', 'It is recommended that you strip back your skincare routine to the basics and start with a blank slate.  It is also recommended that you do not use other new skincare products while you are testing our products on your skin.  The reason for this is you will not really know which of the products caused a reaction if you introduce too many at one time.  If you usually do not have a problem with reactions on your skin, you should not have a reaction.'), ('Care & Storage Instructions', 'Store below 25 degrees celsius.  Keep out of direct sunlight.  Store in a dry place.  Do not allow water to enter your product.'), ('Directions & Warnings Before Use', 'Store below 25 degrees celsius.  Keep out of direct sunlight.  Store in a dry place.  Do not allow water to enter your product.'), ('Our promises to you', 'We go to great lengths to hand select every ingredient.  Please do not hesitate to let us know if you are not having the desired effect after using this product for the first 6 weeks.  We will ensure that we analyse your needs further and make the necessary adjustments to your formulation.\\nWe select only natural and organic ingredients in order to formulate products that are not only gentle on your skin but are also effective.  Each of our ingredients goes through a selection process to ensure the highest quality.\\nPlease do not hesitate to contact us if you have any questions or concerns about any of our products.  We would be happy to help.'), ('Used By & Best Before Date', 'This blend must be used within …. months of blending.\\nDate Blended: [date blended]\\nBest Before Date: [best before date]')])"
      ]
     },
     "execution_count": 73,
     "metadata": {},
     "output_type": "execute_result"
    }
   ],
   "source": [
    "new_content.items()"
   ]
  },
  {
   "cell_type": "code",
   "execution_count": 64,
   "metadata": {},
   "outputs": [],
   "source": [
    "metadata.create_all(engine)"
   ]
  },
  {
   "cell_type": "code",
   "execution_count": 68,
   "metadata": {},
   "outputs": [
    {
     "ename": "CompileError",
     "evalue": "Unconsumed column names: new_column_name, Field8",
     "output_type": "error",
     "traceback": [
      "\u001b[1;31m---------------------------------------------------------------------------\u001b[0m",
      "\u001b[1;31mCompileError\u001b[0m                              Traceback (most recent call last)",
      "\u001b[1;32m<ipython-input-68-29801eef4b92>\u001b[0m in \u001b[0;36m<module>\u001b[1;34m\u001b[0m\n\u001b[0;32m      1\u001b[0m \u001b[1;31m# Add data to new table\u001b[0m\u001b[1;33m\u001b[0m\u001b[1;33m\u001b[0m\u001b[1;33m\u001b[0m\u001b[0m\n\u001b[1;32m----> 2\u001b[1;33m \u001b[0minsert_query\u001b[0m\u001b[1;33m(\u001b[0m\u001b[0mmetadata\u001b[0m\u001b[1;33m.\u001b[0m\u001b[0mtables\u001b[0m\u001b[1;33m[\u001b[0m\u001b[1;34m'copy'\u001b[0m\u001b[1;33m]\u001b[0m\u001b[1;33m,\u001b[0m \u001b[0mget_table_contents\u001b[0m\u001b[1;33m(\u001b[0m\u001b[0mInformationSheet\u001b[0m\u001b[1;33m)\u001b[0m\u001b[1;33m)\u001b[0m\u001b[1;33m\u001b[0m\u001b[1;33m\u001b[0m\u001b[0m\n\u001b[0m",
      "\u001b[1;32m<ipython-input-6-b9ab6e8a7f34>\u001b[0m in \u001b[0;36minsert_query\u001b[1;34m(table, data)\u001b[0m\n\u001b[0;32m      3\u001b[0m     \"\"\"\n\u001b[0;32m      4\u001b[0m     \u001b[0mquery\u001b[0m \u001b[1;33m=\u001b[0m \u001b[0mtable\u001b[0m\u001b[1;33m.\u001b[0m\u001b[0minsert\u001b[0m\u001b[1;33m(\u001b[0m\u001b[1;33m)\u001b[0m\u001b[1;33m.\u001b[0m\u001b[0mvalues\u001b[0m\u001b[1;33m(\u001b[0m\u001b[0mdata\u001b[0m\u001b[1;33m)\u001b[0m\u001b[1;33m\u001b[0m\u001b[1;33m\u001b[0m\u001b[0m\n\u001b[1;32m----> 5\u001b[1;33m     \u001b[0mcnxn\u001b[0m\u001b[1;33m.\u001b[0m\u001b[0mexecute\u001b[0m\u001b[1;33m(\u001b[0m\u001b[0mquery\u001b[0m\u001b[1;33m)\u001b[0m\u001b[1;33m\u001b[0m\u001b[1;33m\u001b[0m\u001b[0m\n\u001b[0m\u001b[0;32m      6\u001b[0m \u001b[1;33m\u001b[0m\u001b[0m\n\u001b[0;32m      7\u001b[0m \u001b[1;32mdef\u001b[0m \u001b[0mupdate_query\u001b[0m\u001b[1;33m(\u001b[0m\u001b[0mtable\u001b[0m\u001b[1;33m,\u001b[0m \u001b[0mdata\u001b[0m\u001b[1;33m)\u001b[0m\u001b[1;33m:\u001b[0m\u001b[1;33m\u001b[0m\u001b[1;33m\u001b[0m\u001b[0m\n",
      "\u001b[1;32mc:\\users\\jerry\\appdata\\local\\programs\\python\\python37\\lib\\site-packages\\sqlalchemy\\engine\\base.py\u001b[0m in \u001b[0;36mexecute\u001b[1;34m(self, object_, *multiparams, **params)\u001b[0m\n\u001b[0;32m    982\u001b[0m             )\n\u001b[0;32m    983\u001b[0m         \u001b[1;32melse\u001b[0m\u001b[1;33m:\u001b[0m\u001b[1;33m\u001b[0m\u001b[1;33m\u001b[0m\u001b[0m\n\u001b[1;32m--> 984\u001b[1;33m             \u001b[1;32mreturn\u001b[0m \u001b[0mmeth\u001b[0m\u001b[1;33m(\u001b[0m\u001b[0mself\u001b[0m\u001b[1;33m,\u001b[0m \u001b[0mmultiparams\u001b[0m\u001b[1;33m,\u001b[0m \u001b[0mparams\u001b[0m\u001b[1;33m)\u001b[0m\u001b[1;33m\u001b[0m\u001b[1;33m\u001b[0m\u001b[0m\n\u001b[0m\u001b[0;32m    985\u001b[0m \u001b[1;33m\u001b[0m\u001b[0m\n\u001b[0;32m    986\u001b[0m     \u001b[1;32mdef\u001b[0m \u001b[0m_execute_function\u001b[0m\u001b[1;33m(\u001b[0m\u001b[0mself\u001b[0m\u001b[1;33m,\u001b[0m \u001b[0mfunc\u001b[0m\u001b[1;33m,\u001b[0m \u001b[0mmultiparams\u001b[0m\u001b[1;33m,\u001b[0m \u001b[0mparams\u001b[0m\u001b[1;33m)\u001b[0m\u001b[1;33m:\u001b[0m\u001b[1;33m\u001b[0m\u001b[1;33m\u001b[0m\u001b[0m\n",
      "\u001b[1;32mc:\\users\\jerry\\appdata\\local\\programs\\python\\python37\\lib\\site-packages\\sqlalchemy\\sql\\elements.py\u001b[0m in \u001b[0;36m_execute_on_connection\u001b[1;34m(self, connection, multiparams, params)\u001b[0m\n\u001b[0;32m    291\u001b[0m     \u001b[1;32mdef\u001b[0m \u001b[0m_execute_on_connection\u001b[0m\u001b[1;33m(\u001b[0m\u001b[0mself\u001b[0m\u001b[1;33m,\u001b[0m \u001b[0mconnection\u001b[0m\u001b[1;33m,\u001b[0m \u001b[0mmultiparams\u001b[0m\u001b[1;33m,\u001b[0m \u001b[0mparams\u001b[0m\u001b[1;33m)\u001b[0m\u001b[1;33m:\u001b[0m\u001b[1;33m\u001b[0m\u001b[1;33m\u001b[0m\u001b[0m\n\u001b[0;32m    292\u001b[0m         \u001b[1;32mif\u001b[0m \u001b[0mself\u001b[0m\u001b[1;33m.\u001b[0m\u001b[0msupports_execution\u001b[0m\u001b[1;33m:\u001b[0m\u001b[1;33m\u001b[0m\u001b[1;33m\u001b[0m\u001b[0m\n\u001b[1;32m--> 293\u001b[1;33m             \u001b[1;32mreturn\u001b[0m \u001b[0mconnection\u001b[0m\u001b[1;33m.\u001b[0m\u001b[0m_execute_clauseelement\u001b[0m\u001b[1;33m(\u001b[0m\u001b[0mself\u001b[0m\u001b[1;33m,\u001b[0m \u001b[0mmultiparams\u001b[0m\u001b[1;33m,\u001b[0m \u001b[0mparams\u001b[0m\u001b[1;33m)\u001b[0m\u001b[1;33m\u001b[0m\u001b[1;33m\u001b[0m\u001b[0m\n\u001b[0m\u001b[0;32m    294\u001b[0m         \u001b[1;32melse\u001b[0m\u001b[1;33m:\u001b[0m\u001b[1;33m\u001b[0m\u001b[1;33m\u001b[0m\u001b[0m\n\u001b[0;32m    295\u001b[0m             \u001b[1;32mraise\u001b[0m \u001b[0mexc\u001b[0m\u001b[1;33m.\u001b[0m\u001b[0mObjectNotExecutableError\u001b[0m\u001b[1;33m(\u001b[0m\u001b[0mself\u001b[0m\u001b[1;33m)\u001b[0m\u001b[1;33m\u001b[0m\u001b[1;33m\u001b[0m\u001b[0m\n",
      "\u001b[1;32mc:\\users\\jerry\\appdata\\local\\programs\\python\\python37\\lib\\site-packages\\sqlalchemy\\engine\\base.py\u001b[0m in \u001b[0;36m_execute_clauseelement\u001b[1;34m(self, elem, multiparams, params)\u001b[0m\n\u001b[0;32m   1092\u001b[0m                 \u001b[0mschema_translate_map\u001b[0m\u001b[1;33m=\u001b[0m\u001b[0mself\u001b[0m\u001b[1;33m.\u001b[0m\u001b[0mschema_for_object\u001b[0m\u001b[1;33m\u001b[0m\u001b[1;33m\u001b[0m\u001b[0m\n\u001b[0;32m   1093\u001b[0m                 \u001b[1;32mif\u001b[0m \u001b[1;32mnot\u001b[0m \u001b[0mself\u001b[0m\u001b[1;33m.\u001b[0m\u001b[0mschema_for_object\u001b[0m\u001b[1;33m.\u001b[0m\u001b[0mis_default\u001b[0m\u001b[1;33m\u001b[0m\u001b[1;33m\u001b[0m\u001b[0m\n\u001b[1;32m-> 1094\u001b[1;33m                 \u001b[1;32melse\u001b[0m \u001b[1;32mNone\u001b[0m\u001b[1;33m,\u001b[0m\u001b[1;33m\u001b[0m\u001b[1;33m\u001b[0m\u001b[0m\n\u001b[0m\u001b[0;32m   1095\u001b[0m             )\n\u001b[0;32m   1096\u001b[0m \u001b[1;33m\u001b[0m\u001b[0m\n",
      "\u001b[1;32m<string>\u001b[0m in \u001b[0;36m<lambda>\u001b[1;34m(self, bind, dialect, **kw)\u001b[0m\n",
      "\u001b[1;32mc:\\users\\jerry\\appdata\\local\\programs\\python\\python37\\lib\\site-packages\\sqlalchemy\\sql\\elements.py\u001b[0m in \u001b[0;36mcompile\u001b[1;34m(self, default, bind, dialect, **kw)\u001b[0m\n\u001b[0;32m    466\u001b[0m             \u001b[1;32melse\u001b[0m\u001b[1;33m:\u001b[0m\u001b[1;33m\u001b[0m\u001b[1;33m\u001b[0m\u001b[0m\n\u001b[0;32m    467\u001b[0m                 \u001b[0mdialect\u001b[0m \u001b[1;33m=\u001b[0m \u001b[0mdefault\u001b[0m\u001b[1;33m.\u001b[0m\u001b[0mStrCompileDialect\u001b[0m\u001b[1;33m(\u001b[0m\u001b[1;33m)\u001b[0m\u001b[1;33m\u001b[0m\u001b[1;33m\u001b[0m\u001b[0m\n\u001b[1;32m--> 468\u001b[1;33m         \u001b[1;32mreturn\u001b[0m \u001b[0mself\u001b[0m\u001b[1;33m.\u001b[0m\u001b[0m_compiler\u001b[0m\u001b[1;33m(\u001b[0m\u001b[0mdialect\u001b[0m\u001b[1;33m,\u001b[0m \u001b[0mbind\u001b[0m\u001b[1;33m=\u001b[0m\u001b[0mbind\u001b[0m\u001b[1;33m,\u001b[0m \u001b[1;33m**\u001b[0m\u001b[0mkw\u001b[0m\u001b[1;33m)\u001b[0m\u001b[1;33m\u001b[0m\u001b[1;33m\u001b[0m\u001b[0m\n\u001b[0m\u001b[0;32m    469\u001b[0m \u001b[1;33m\u001b[0m\u001b[0m\n\u001b[0;32m    470\u001b[0m     \u001b[1;32mdef\u001b[0m \u001b[0m_compiler\u001b[0m\u001b[1;33m(\u001b[0m\u001b[0mself\u001b[0m\u001b[1;33m,\u001b[0m \u001b[0mdialect\u001b[0m\u001b[1;33m,\u001b[0m \u001b[1;33m**\u001b[0m\u001b[0mkw\u001b[0m\u001b[1;33m)\u001b[0m\u001b[1;33m:\u001b[0m\u001b[1;33m\u001b[0m\u001b[1;33m\u001b[0m\u001b[0m\n",
      "\u001b[1;32mc:\\users\\jerry\\appdata\\local\\programs\\python\\python37\\lib\\site-packages\\sqlalchemy\\sql\\elements.py\u001b[0m in \u001b[0;36m_compiler\u001b[1;34m(self, dialect, **kw)\u001b[0m\n\u001b[0;32m    472\u001b[0m         Dialect.\"\"\"\n\u001b[0;32m    473\u001b[0m \u001b[1;33m\u001b[0m\u001b[0m\n\u001b[1;32m--> 474\u001b[1;33m         \u001b[1;32mreturn\u001b[0m \u001b[0mdialect\u001b[0m\u001b[1;33m.\u001b[0m\u001b[0mstatement_compiler\u001b[0m\u001b[1;33m(\u001b[0m\u001b[0mdialect\u001b[0m\u001b[1;33m,\u001b[0m \u001b[0mself\u001b[0m\u001b[1;33m,\u001b[0m \u001b[1;33m**\u001b[0m\u001b[0mkw\u001b[0m\u001b[1;33m)\u001b[0m\u001b[1;33m\u001b[0m\u001b[1;33m\u001b[0m\u001b[0m\n\u001b[0m\u001b[0;32m    475\u001b[0m \u001b[1;33m\u001b[0m\u001b[0m\n\u001b[0;32m    476\u001b[0m     \u001b[1;32mdef\u001b[0m \u001b[0m__str__\u001b[0m\u001b[1;33m(\u001b[0m\u001b[0mself\u001b[0m\u001b[1;33m)\u001b[0m\u001b[1;33m:\u001b[0m\u001b[1;33m\u001b[0m\u001b[1;33m\u001b[0m\u001b[0m\n",
      "\u001b[1;32mc:\\users\\jerry\\appdata\\local\\programs\\python\\python37\\lib\\site-packages\\sqlalchemy\\sql\\compiler.py\u001b[0m in \u001b[0;36m__init__\u001b[1;34m(self, dialect, statement, column_keys, inline, **kwargs)\u001b[0m\n\u001b[0;32m    588\u001b[0m         \u001b[0mself\u001b[0m\u001b[1;33m.\u001b[0m\u001b[0mtruncated_names\u001b[0m \u001b[1;33m=\u001b[0m \u001b[1;33m{\u001b[0m\u001b[1;33m}\u001b[0m\u001b[1;33m\u001b[0m\u001b[1;33m\u001b[0m\u001b[0m\n\u001b[0;32m    589\u001b[0m \u001b[1;33m\u001b[0m\u001b[0m\n\u001b[1;32m--> 590\u001b[1;33m         \u001b[0mCompiled\u001b[0m\u001b[1;33m.\u001b[0m\u001b[0m__init__\u001b[0m\u001b[1;33m(\u001b[0m\u001b[0mself\u001b[0m\u001b[1;33m,\u001b[0m \u001b[0mdialect\u001b[0m\u001b[1;33m,\u001b[0m \u001b[0mstatement\u001b[0m\u001b[1;33m,\u001b[0m \u001b[1;33m**\u001b[0m\u001b[0mkwargs\u001b[0m\u001b[1;33m)\u001b[0m\u001b[1;33m\u001b[0m\u001b[1;33m\u001b[0m\u001b[0m\n\u001b[0m\u001b[0;32m    591\u001b[0m \u001b[1;33m\u001b[0m\u001b[0m\n\u001b[0;32m    592\u001b[0m         if (\n",
      "\u001b[1;32mc:\\users\\jerry\\appdata\\local\\programs\\python\\python37\\lib\\site-packages\\sqlalchemy\\sql\\compiler.py\u001b[0m in \u001b[0;36m__init__\u001b[1;34m(self, dialect, statement, bind, schema_translate_map, compile_kwargs)\u001b[0m\n\u001b[0;32m    317\u001b[0m             \u001b[1;32mif\u001b[0m \u001b[0mself\u001b[0m\u001b[1;33m.\u001b[0m\u001b[0mcan_execute\u001b[0m\u001b[1;33m:\u001b[0m\u001b[1;33m\u001b[0m\u001b[1;33m\u001b[0m\u001b[0m\n\u001b[0;32m    318\u001b[0m                 \u001b[0mself\u001b[0m\u001b[1;33m.\u001b[0m\u001b[0mexecution_options\u001b[0m \u001b[1;33m=\u001b[0m \u001b[0mstatement\u001b[0m\u001b[1;33m.\u001b[0m\u001b[0m_execution_options\u001b[0m\u001b[1;33m\u001b[0m\u001b[1;33m\u001b[0m\u001b[0m\n\u001b[1;32m--> 319\u001b[1;33m             \u001b[0mself\u001b[0m\u001b[1;33m.\u001b[0m\u001b[0mstring\u001b[0m \u001b[1;33m=\u001b[0m \u001b[0mself\u001b[0m\u001b[1;33m.\u001b[0m\u001b[0mprocess\u001b[0m\u001b[1;33m(\u001b[0m\u001b[0mself\u001b[0m\u001b[1;33m.\u001b[0m\u001b[0mstatement\u001b[0m\u001b[1;33m,\u001b[0m \u001b[1;33m**\u001b[0m\u001b[0mcompile_kwargs\u001b[0m\u001b[1;33m)\u001b[0m\u001b[1;33m\u001b[0m\u001b[1;33m\u001b[0m\u001b[0m\n\u001b[0m\u001b[0;32m    320\u001b[0m \u001b[1;33m\u001b[0m\u001b[0m\n\u001b[0;32m    321\u001b[0m     @util.deprecated(\n",
      "\u001b[1;32mc:\\users\\jerry\\appdata\\local\\programs\\python\\python37\\lib\\site-packages\\sqlalchemy\\sql\\compiler.py\u001b[0m in \u001b[0;36mprocess\u001b[1;34m(self, obj, **kwargs)\u001b[0m\n\u001b[0;32m    348\u001b[0m \u001b[1;33m\u001b[0m\u001b[0m\n\u001b[0;32m    349\u001b[0m     \u001b[1;32mdef\u001b[0m \u001b[0mprocess\u001b[0m\u001b[1;33m(\u001b[0m\u001b[0mself\u001b[0m\u001b[1;33m,\u001b[0m \u001b[0mobj\u001b[0m\u001b[1;33m,\u001b[0m \u001b[1;33m**\u001b[0m\u001b[0mkwargs\u001b[0m\u001b[1;33m)\u001b[0m\u001b[1;33m:\u001b[0m\u001b[1;33m\u001b[0m\u001b[1;33m\u001b[0m\u001b[0m\n\u001b[1;32m--> 350\u001b[1;33m         \u001b[1;32mreturn\u001b[0m \u001b[0mobj\u001b[0m\u001b[1;33m.\u001b[0m\u001b[0m_compiler_dispatch\u001b[0m\u001b[1;33m(\u001b[0m\u001b[0mself\u001b[0m\u001b[1;33m,\u001b[0m \u001b[1;33m**\u001b[0m\u001b[0mkwargs\u001b[0m\u001b[1;33m)\u001b[0m\u001b[1;33m\u001b[0m\u001b[1;33m\u001b[0m\u001b[0m\n\u001b[0m\u001b[0;32m    351\u001b[0m \u001b[1;33m\u001b[0m\u001b[0m\n\u001b[0;32m    352\u001b[0m     \u001b[1;32mdef\u001b[0m \u001b[0m__str__\u001b[0m\u001b[1;33m(\u001b[0m\u001b[0mself\u001b[0m\u001b[1;33m)\u001b[0m\u001b[1;33m:\u001b[0m\u001b[1;33m\u001b[0m\u001b[1;33m\u001b[0m\u001b[0m\n",
      "\u001b[1;32mc:\\users\\jerry\\appdata\\local\\programs\\python\\python37\\lib\\site-packages\\sqlalchemy\\sql\\visitors.py\u001b[0m in \u001b[0;36m_compiler_dispatch\u001b[1;34m(self, visitor, **kw)\u001b[0m\n\u001b[0;32m     93\u001b[0m                     )\n\u001b[0;32m     94\u001b[0m                 \u001b[1;32melse\u001b[0m\u001b[1;33m:\u001b[0m\u001b[1;33m\u001b[0m\u001b[1;33m\u001b[0m\u001b[0m\n\u001b[1;32m---> 95\u001b[1;33m                     \u001b[1;32mreturn\u001b[0m \u001b[0mmeth\u001b[0m\u001b[1;33m(\u001b[0m\u001b[0mself\u001b[0m\u001b[1;33m,\u001b[0m \u001b[1;33m**\u001b[0m\u001b[0mkw\u001b[0m\u001b[1;33m)\u001b[0m\u001b[1;33m\u001b[0m\u001b[1;33m\u001b[0m\u001b[0m\n\u001b[0m\u001b[0;32m     96\u001b[0m \u001b[1;33m\u001b[0m\u001b[0m\n\u001b[0;32m     97\u001b[0m         \u001b[1;32melse\u001b[0m\u001b[1;33m:\u001b[0m\u001b[1;33m\u001b[0m\u001b[1;33m\u001b[0m\u001b[0m\n",
      "\u001b[1;32mc:\\users\\jerry\\appdata\\local\\programs\\python\\python37\\lib\\site-packages\\sqlalchemy\\sql\\compiler.py\u001b[0m in \u001b[0;36mvisit_insert\u001b[1;34m(self, insert_stmt, asfrom, **kw)\u001b[0m\n\u001b[0;32m   2426\u001b[0m \u001b[1;33m\u001b[0m\u001b[0m\n\u001b[0;32m   2427\u001b[0m         crud_params = crud._setup_crud_params(\n\u001b[1;32m-> 2428\u001b[1;33m             \u001b[0mself\u001b[0m\u001b[1;33m,\u001b[0m \u001b[0minsert_stmt\u001b[0m\u001b[1;33m,\u001b[0m \u001b[0mcrud\u001b[0m\u001b[1;33m.\u001b[0m\u001b[0mISINSERT\u001b[0m\u001b[1;33m,\u001b[0m \u001b[1;33m**\u001b[0m\u001b[0mkw\u001b[0m\u001b[1;33m\u001b[0m\u001b[1;33m\u001b[0m\u001b[0m\n\u001b[0m\u001b[0;32m   2429\u001b[0m         )\n\u001b[0;32m   2430\u001b[0m \u001b[1;33m\u001b[0m\u001b[0m\n",
      "\u001b[1;32mc:\\users\\jerry\\appdata\\local\\programs\\python\\python37\\lib\\site-packages\\sqlalchemy\\sql\\crud.py\u001b[0m in \u001b[0;36m_setup_crud_params\u001b[1;34m(compiler, stmt, local_stmt_type, **kw)\u001b[0m\n\u001b[0;32m     62\u001b[0m     \u001b[1;32mtry\u001b[0m\u001b[1;33m:\u001b[0m\u001b[1;33m\u001b[0m\u001b[1;33m\u001b[0m\u001b[0m\n\u001b[0;32m     63\u001b[0m         \u001b[1;32mif\u001b[0m \u001b[0mlocal_stmt_type\u001b[0m \u001b[1;32min\u001b[0m \u001b[1;33m(\u001b[0m\u001b[0mISINSERT\u001b[0m\u001b[1;33m,\u001b[0m \u001b[0mISUPDATE\u001b[0m\u001b[1;33m)\u001b[0m\u001b[1;33m:\u001b[0m\u001b[1;33m\u001b[0m\u001b[1;33m\u001b[0m\u001b[0m\n\u001b[1;32m---> 64\u001b[1;33m             \u001b[1;32mreturn\u001b[0m \u001b[0m_get_crud_params\u001b[0m\u001b[1;33m(\u001b[0m\u001b[0mcompiler\u001b[0m\u001b[1;33m,\u001b[0m \u001b[0mstmt\u001b[0m\u001b[1;33m,\u001b[0m \u001b[1;33m**\u001b[0m\u001b[0mkw\u001b[0m\u001b[1;33m)\u001b[0m\u001b[1;33m\u001b[0m\u001b[1;33m\u001b[0m\u001b[0m\n\u001b[0m\u001b[0;32m     65\u001b[0m     \u001b[1;32mfinally\u001b[0m\u001b[1;33m:\u001b[0m\u001b[1;33m\u001b[0m\u001b[1;33m\u001b[0m\u001b[0m\n\u001b[0;32m     66\u001b[0m         \u001b[1;32mif\u001b[0m \u001b[0mshould_restore\u001b[0m\u001b[1;33m:\u001b[0m\u001b[1;33m\u001b[0m\u001b[1;33m\u001b[0m\u001b[0m\n",
      "\u001b[1;32mc:\\users\\jerry\\appdata\\local\\programs\\python\\python37\\lib\\site-packages\\sqlalchemy\\sql\\crud.py\u001b[0m in \u001b[0;36m_get_crud_params\u001b[1;34m(compiler, stmt, **kw)\u001b[0m\n\u001b[0;32m    177\u001b[0m             raise exc.CompileError(\n\u001b[0;32m    178\u001b[0m                 \u001b[1;34m\"Unconsumed column names: %s\"\u001b[0m\u001b[1;33m\u001b[0m\u001b[1;33m\u001b[0m\u001b[0m\n\u001b[1;32m--> 179\u001b[1;33m                 \u001b[1;33m%\u001b[0m \u001b[1;33m(\u001b[0m\u001b[1;34m\", \"\u001b[0m\u001b[1;33m.\u001b[0m\u001b[0mjoin\u001b[0m\u001b[1;33m(\u001b[0m\u001b[1;34m\"%s\"\u001b[0m \u001b[1;33m%\u001b[0m \u001b[0mc\u001b[0m \u001b[1;32mfor\u001b[0m \u001b[0mc\u001b[0m \u001b[1;32min\u001b[0m \u001b[0mcheck\u001b[0m\u001b[1;33m)\u001b[0m\u001b[1;33m)\u001b[0m\u001b[1;33m\u001b[0m\u001b[1;33m\u001b[0m\u001b[0m\n\u001b[0m\u001b[0;32m    180\u001b[0m             )\n\u001b[0;32m    181\u001b[0m \u001b[1;33m\u001b[0m\u001b[0m\n",
      "\u001b[1;31mCompileError\u001b[0m: Unconsumed column names: new_column_name, Field8"
     ]
    }
   ],
   "source": [
    "# Add data to new table\n",
    "insert_query(metadata.tables['copy'], get_table_contents(InformationSheet))"
   ]
  },
  {
   "cell_type": "code",
   "execution_count": null,
   "metadata": {},
   "outputs": [],
   "source": [
    "def insert_query(table, data):\n",
    "    \"\"\" data: dictionary of column name and its value\n",
    "    \"\"\"\n",
    "    query = table.insert().values(data)\n",
    "    cnxn.execute(query)"
   ]
  },
  {
   "cell_type": "code",
   "execution_count": 11,
   "metadata": {},
   "outputs": [],
   "source": [
    "copy = metadata.tables[\"copy\"]\n",
    "copy.drop(engine)"
   ]
  },
  {
   "cell_type": "code",
   "execution_count": null,
   "metadata": {},
   "outputs": [],
   "source": []
  },
  {
   "cell_type": "code",
   "execution_count": 31,
   "metadata": {},
   "outputs": [],
   "source": [
    "def setup_df(csv_data):\n",
    "    \"\"\" Takes csv reader data and converts it to dataframe. \"\"\"\n",
    "    df = pd.DataFrame(csv_data)\n",
    "    # Set row 0 as column names\n",
    "    df.columns = df.iloc[0]\n",
    "    df.drop(df.index[0], inplace=True)\n",
    "    # Reindex\n",
    "    df.reset_index(inplace=True)\n",
    "    return df"
   ]
  },
  {
   "cell_type": "code",
   "execution_count": 34,
   "metadata": {},
   "outputs": [
    {
     "ename": "NameError",
     "evalue": "name 'catalog' is not defined",
     "output_type": "error",
     "traceback": [
      "\u001b[1;31m---------------------------------------------------------------------------\u001b[0m",
      "\u001b[1;31mNameError\u001b[0m                                 Traceback (most recent call last)",
      "\u001b[1;32m<ipython-input-34-802eaed85167>\u001b[0m in \u001b[0;36m<module>\u001b[1;34m\u001b[0m\n\u001b[0;32m      9\u001b[0m \u001b[0mdata\u001b[0m \u001b[1;33m=\u001b[0m \u001b[0mcsv\u001b[0m\u001b[1;33m.\u001b[0m\u001b[0mreader\u001b[0m\u001b[1;33m(\u001b[0m\u001b[0mopen\u001b[0m\u001b[1;33m(\u001b[0m\u001b[1;34m\"C:/users/jerry/Desktop/Restored To Eden/catalog_products.csv\"\u001b[0m\u001b[1;33m)\u001b[0m\u001b[1;33m)\u001b[0m\u001b[1;33m\u001b[0m\u001b[1;33m\u001b[0m\u001b[0m\n\u001b[0;32m     10\u001b[0m \u001b[0mcatalog_df\u001b[0m \u001b[1;33m=\u001b[0m \u001b[0msetup_df\u001b[0m\u001b[1;33m(\u001b[0m\u001b[0mdata\u001b[0m\u001b[1;33m)\u001b[0m\u001b[1;33m\u001b[0m\u001b[1;33m\u001b[0m\u001b[0m\n\u001b[1;32m---> 11\u001b[1;33m \u001b[0mdf_prods\u001b[0m \u001b[1;33m=\u001b[0m \u001b[0mpd\u001b[0m\u001b[1;33m.\u001b[0m\u001b[0mDataFrame\u001b[0m\u001b[1;33m(\u001b[0m\u001b[0mcatalog\u001b[0m\u001b[1;33m)\u001b[0m\u001b[1;33m\u001b[0m\u001b[1;33m\u001b[0m\u001b[0m\n\u001b[0m",
      "\u001b[1;31mNameError\u001b[0m: name 'catalog' is not defined"
     ]
    }
   ],
   "source": [
    "import csv\n",
    "import pandas as pd\n",
    "\n",
    "# Customer orders\n",
    "data = csv.reader(open(\"C:/users/jerry/Desktop/Restored To Eden/orders.csv\"))\n",
    "orders_df = setup_df(data)\n",
    "\n",
    "# Product catalog\n",
    "data = csv.reader(open(\"C:/users/jerry/Desktop/Restored To Eden/catalog_products.csv\"))\n",
    "catalog_df = setup_df(data)\n",
    "df_prods = pd.DataFrame(catalog)"
   ]
  },
  {
   "cell_type": "code",
   "execution_count": 107,
   "metadata": {},
   "outputs": [],
   "source": [
    "def get_product_type(product_name):\n",
    "    # Cross query product catalog\n",
    "    types = catalog_df[catalog_df[\"additionalDescription1\"].str.constains(product_name)].additionalInfoDescription1.iloc[0]"
   ]
  },
  {
   "cell_type": "code",
   "execution_count": 104,
   "metadata": {},
   "outputs": [
    {
     "data": {
      "text/plain": [
       "pandas.core.series.Series"
      ]
     },
     "execution_count": 104,
     "metadata": {},
     "output_type": "execute_result"
    }
   ],
   "source": [
    "type(catalog_df[\"additionalInfoDescription1\"])"
   ]
  },
  {
   "cell_type": "code",
   "execution_count": 115,
   "metadata": {},
   "outputs": [
    {
     "data": {
      "text/plain": [
       "pandas.core.series.Series"
      ]
     },
     "execution_count": 115,
     "metadata": {},
     "output_type": "execute_result"
    }
   ],
   "source": [
    "type(catalog_df[catalog_df[\"additionalInfoDescription1\"].str.contains(\"Serum\")].additionalInfoDescription1)"
   ]
  },
  {
   "cell_type": "code",
   "execution_count": 117,
   "metadata": {},
   "outputs": [
    {
     "data": {
      "text/plain": [
       "'<p>Hydration Serum, Oil Serum</p>\\n'"
      ]
     },
     "execution_count": 117,
     "metadata": {},
     "output_type": "execute_result"
    }
   ],
   "source": [
    "catalog_df[catalog_df[\"additionalInfoDescription1\"].str.contains(\"Serum\")].additionalInfoDescription1.iloc[0]"
   ]
  },
  {
   "cell_type": "code",
   "execution_count": null,
   "metadata": {},
   "outputs": [],
   "source": []
  },
  {
   "cell_type": "code",
   "execution_count": 57,
   "metadata": {},
   "outputs": [
    {
     "name": "stdout",
     "output_type": "stream",
     "text": [
      "Hydration Serum\n",
      "Oil Serum\n",
      "Oil Serum\n",
      "Oil Serum\n",
      "Night Cream\n",
      "Day Cream\n",
      "Hydration Serum\n",
      "Oil Serum\n",
      "Night Cream\n",
      "Hydration Serum\n",
      "Night Cream\n",
      "Oil Cleanser\n",
      "Night Cream\n",
      "Oil Cleanser\n",
      "Cleansing Lotion\n",
      "Toner\n",
      "Day Cream\n",
      "Oil Cleanser\n",
      "Cleansing Lotion\n",
      "Toner\n",
      "Oil Serum\n",
      "Hydration Serum\n"
     ]
    }
   ],
   "source": [
    "templates = [\"2 Birds Serum\", \"Cleansing Lotion\", \"Day Cream\", \"Man Cream\", \n",
    "             \"Hydration Serum\", \"Night Cream\", \"Oil Serum\", \"Oil Cleanser\", \n",
    "             \"Toner\"]\n",
    "\n",
    "# Go through orders and find the production template to use\n",
    "i=0\n",
    "for item in orders_df[[\"Item's Name\"]].iloc[:,0]:\n",
    "    # Find product types\n",
    "    \n",
    "    \n",
    "    # Go through formulation worksheets\n",
    "    for sheet in templates:\n",
    "        if item in sheet:\n",
    "            print(sheet)\n",
    "            i+=1\n",
    "            break"
   ]
  },
  {
   "cell_type": "markdown",
   "metadata": {},
   "source": [
    "# Section allows editing of information sheet\n",
    "Store info in an excel sheet"
   ]
  },
  {
   "cell_type": "code",
   "execution_count": 2,
   "metadata": {},
   "outputs": [],
   "source": [
    "from openpyxl import load_workbook\n",
    "from datetime import *\n",
    "import pandas as pd\n",
    "import os"
   ]
  },
  {
   "cell_type": "code",
   "execution_count": 282,
   "metadata": {},
   "outputs": [],
   "source": [
    "class ButtonWrapper:\n",
    "    def __init__(self, button, label, text_box):\n",
    "        self.df = None\n",
    "        self.button = button\n",
    "        self.label = label\n",
    "        self.text_box = text_box\n",
    "        \n",
    "        self.button.clicked.connect(self.del_section)\n",
    "        \n",
    "    def del_section(self):\n",
    "        df = pd.DataFrame({self.label.text(): [self.text_box.toPlainText()]})\n",
    "        self.label.deleteLater()\n",
    "        self.text_box.deleteLater()\n",
    "        self.button.deleteLater()\n",
    "        \n",
    "        self.df = df"
   ]
  },
  {
   "cell_type": "code",
   "execution_count": 284,
   "metadata": {},
   "outputs": [],
   "source": [
    "import sys\n",
    "from PySide2.QtWidgets import *\n",
    "\n",
    "paragraphs_df = pd.read_excel(info_sheet_path)\n",
    "\n",
    "class Form(QDialog):\n",
    "    def __init__(self, contents, parent=None):\n",
    "        super(Form, self).__init__(parent)\n",
    "        \n",
    "        self.paragraphs_df = contents\n",
    "        \n",
    "        self.setWindowTitle(\"Information Sheet Editor\")\n",
    "        self.resize(700, 500)\n",
    "        self.layout = QGridLayout()\n",
    "\n",
    "        # Save button\n",
    "        button = QPushButton(\"Save\")\n",
    "        button.clicked.connect(self.refresh)\n",
    "        self.layout.addWidget(button, 0, 0)\n",
    "\n",
    "        # Add new section button\n",
    "        button = QPushButton(\"Add section\")\n",
    "        button.clicked.connect(self.add_section)\n",
    "        self.layout.addWidget(button, 1, 0)\n",
    "        \n",
    "        self.del_buttons = []\n",
    "        for i in range(contents.shape[1]):\n",
    "            # Create label\n",
    "            l = QLabel(list(contents)[i])\n",
    "            self.layout.addWidget(l, 2*i+2, 0)\n",
    "            \n",
    "            # Create text boxes\n",
    "            t = QTextEdit(contents.iloc[0,i])\n",
    "            self.layout.addWidget(t, 2*i +2 + 1, 0)\n",
    "            \n",
    "            button = QPushButton(\"del\")\n",
    "            self.del_buttons.append(ButtonWrapper(button, l, t))\n",
    "            self.layout.addWidget(button, 2*i +2 + 1, 1)\n",
    "\n",
    "#         # Delete section button\n",
    "#         button = QPushButton(\"Delete section\")\n",
    "#         button.clicked.connect(self.del_section)\n",
    "#         self.layout.addWidget(button)\n",
    "\n",
    "        # Set dialog layout\n",
    "        self.setLayout(self.layout)\n",
    "\n",
    "    def add_section(self):\n",
    "        dialog = QDialog()\n",
    "        dialog.setWindowTitle(\"New Section\")\n",
    "        layout = QVBoxLayout()\n",
    "\n",
    "        # New section heading\n",
    "        l = QLabel(\"Section Title\")\n",
    "        layout.addWidget(l)\n",
    "        e = QLineEdit()\n",
    "        layout.addWidget(e)\n",
    "\n",
    "        # New section content\n",
    "        l_content = QLabel(\"Section Content\")\n",
    "        layout.addWidget(l_content)\n",
    "        e_content = QTextEdit()\n",
    "        layout.addWidget(e_content)\n",
    "\n",
    "        # Button adds new info to SQLite\n",
    "        button = QPushButton(\"Ok!\")\n",
    "        button.clicked.connect(lambda: self.add_N_close(dialog, e.text(), e_content.toPlainText()))\n",
    "\n",
    "        dialog.setLayout(layout)\n",
    "        dialog.exec_() \n",
    "\n",
    "    def add_N_close(self, dialog, n_heading, n_body):\n",
    "        new_section_df = pd.DataFrame({n_heading: [n_body]})\n",
    "        self.paragraphs_df = pd.concat([paragraphs_df, new_section_df], axis=1)\n",
    "        \n",
    "        l = QLabel(n_heading)\n",
    "        t = QTextEdit(n_body)\n",
    "        self.text_boxes.append(t)\n",
    "        \n",
    "        # Insert new section before the buttons\n",
    "        print(self.layout.count())\n",
    "        pos = self.layout.rowCount()\n",
    "        self.layout.addWidget(l, pos, 0)\n",
    "        self.layout.addWidget(t, pos+1, 0)\n",
    "\n",
    "        dialog.close()\n",
    "    \n",
    "     \n",
    "    def refresh(self):\n",
    "        for b_wrap in self.del_buttons:\n",
    "            if b_wrap.df != None:\n",
    "                print(b_wrap.df)\n",
    "        # Export paragraph dfs to xlsx to load later\n",
    "        #self.paragraphs_df.to_excel(\"test.xlsx\")\n"
   ]
  },
  {
   "cell_type": "code",
   "execution_count": 280,
   "metadata": {},
   "outputs": [
    {
     "data": {
      "text/html": [
       "<div>\n",
       "<style scoped>\n",
       "    .dataframe tbody tr th:only-of-type {\n",
       "        vertical-align: middle;\n",
       "    }\n",
       "\n",
       "    .dataframe tbody tr th {\n",
       "        vertical-align: top;\n",
       "    }\n",
       "\n",
       "    .dataframe thead th {\n",
       "        text-align: right;\n",
       "    }\n",
       "</style>\n",
       "<table border=\"1\" class=\"dataframe\">\n",
       "  <thead>\n",
       "    <tr style=\"text-align: right;\">\n",
       "      <th></th>\n",
       "      <th>Recommendations For Use</th>\n",
       "      <th>For Best Results</th>\n",
       "      <th>Care &amp; Storage Instructions</th>\n",
       "      <th>Directions &amp; Warnings Before Use</th>\n",
       "      <th>Our promises to you</th>\n",
       "      <th>Used By &amp; Best Before Date</th>\n",
       "    </tr>\n",
       "  </thead>\n",
       "  <tbody>\n",
       "    <tr>\n",
       "      <th>0</th>\n",
       "      <td>eek</td>\n",
       "      <td>Saradomin</td>\n",
       "      <td>Zaros</td>\n",
       "      <td>Zamorak</td>\n",
       "      <td>Bandos</td>\n",
       "      <td>Armadyl</td>\n",
       "    </tr>\n",
       "  </tbody>\n",
       "</table>\n",
       "</div>"
      ],
      "text/plain": [
       "  Recommendations For Use For Best Results Care & Storage Instructions  \\\n",
       "0                     eek        Saradomin                       Zaros   \n",
       "\n",
       "  Directions & Warnings Before Use Our promises to you  \\\n",
       "0                          Zamorak              Bandos   \n",
       "\n",
       "  Used By & Best Before Date  \n",
       "0                    Armadyl  "
      ]
     },
     "execution_count": 280,
     "metadata": {},
     "output_type": "execute_result"
    }
   ],
   "source": [
    "# Read current info sheet\n",
    "working_dir = os.getcwd()\n",
    "info_sheet_path = working_dir + r\"\\BespokeAutoSystem\\InformationSheet.xlsx\"\n",
    "paragraphs_df = pd.read_excel(info_sheet_path)\n",
    "paragraphs_df"
   ]
  },
  {
   "cell_type": "code",
   "execution_count": 57,
   "metadata": {},
   "outputs": [
    {
     "ename": "RuntimeError",
     "evalue": "Please destroy the QApplication singleton before creating a new QApplication instance.",
     "output_type": "error",
     "traceback": [
      "\u001b[1;31m---------------------------------------------------------------------------\u001b[0m",
      "\u001b[1;31mRuntimeError\u001b[0m                              Traceback (most recent call last)",
      "\u001b[1;32m<ipython-input-57-8d6db86af01a>\u001b[0m in \u001b[0;36m<module>\u001b[1;34m\u001b[0m\n\u001b[0;32m      1\u001b[0m \u001b[1;31m# Create the Qt Application\u001b[0m\u001b[1;33m\u001b[0m\u001b[1;33m\u001b[0m\u001b[1;33m\u001b[0m\u001b[0m\n\u001b[1;32m----> 2\u001b[1;33m \u001b[0mapp\u001b[0m \u001b[1;33m=\u001b[0m \u001b[0mQApplication\u001b[0m\u001b[1;33m(\u001b[0m\u001b[0msys\u001b[0m\u001b[1;33m.\u001b[0m\u001b[0margv\u001b[0m\u001b[1;33m)\u001b[0m\u001b[1;33m\u001b[0m\u001b[1;33m\u001b[0m\u001b[0m\n\u001b[0m\u001b[0;32m      3\u001b[0m \u001b[1;31m# Create and show the form\u001b[0m\u001b[1;33m\u001b[0m\u001b[1;33m\u001b[0m\u001b[1;33m\u001b[0m\u001b[0m\n\u001b[0;32m      4\u001b[0m \u001b[0mform\u001b[0m \u001b[1;33m=\u001b[0m \u001b[0mForm\u001b[0m\u001b[1;33m(\u001b[0m\u001b[0mparagraphs_df\u001b[0m\u001b[1;33m)\u001b[0m\u001b[1;33m\u001b[0m\u001b[1;33m\u001b[0m\u001b[0m\n\u001b[0;32m      5\u001b[0m \u001b[0mform\u001b[0m\u001b[1;33m.\u001b[0m\u001b[0mshow\u001b[0m\u001b[1;33m(\u001b[0m\u001b[1;33m)\u001b[0m\u001b[1;33m\u001b[0m\u001b[1;33m\u001b[0m\u001b[0m\n",
      "\u001b[1;31mRuntimeError\u001b[0m: Please destroy the QApplication singleton before creating a new QApplication instance."
     ]
    }
   ],
   "source": [
    "# Create the Qt Application\n",
    "app = QApplication(sys.argv)\n"
   ]
  },
  {
   "cell_type": "code",
   "execution_count": 286,
   "metadata": {
    "scrolled": true
   },
   "outputs": [
    {
     "ename": "AttributeError",
     "evalue": "'ButtonWrapper' object has no attribute 'df'",
     "output_type": "error",
     "traceback": [
      "\u001b[1;31m---------------------------------------------------------------------------\u001b[0m",
      "\u001b[1;31mAttributeError\u001b[0m                            Traceback (most recent call last)",
      "\u001b[1;32m<ipython-input-284-f242aa10e97b>\u001b[0m in \u001b[0;36mrefresh\u001b[1;34m(self)\u001b[0m\n\u001b[0;32m     89\u001b[0m     \u001b[1;32mdef\u001b[0m \u001b[0mrefresh\u001b[0m\u001b[1;33m(\u001b[0m\u001b[0mself\u001b[0m\u001b[1;33m)\u001b[0m\u001b[1;33m:\u001b[0m\u001b[1;33m\u001b[0m\u001b[1;33m\u001b[0m\u001b[0m\n\u001b[0;32m     90\u001b[0m         \u001b[1;32mfor\u001b[0m \u001b[0mb_wrap\u001b[0m \u001b[1;32min\u001b[0m \u001b[0mself\u001b[0m\u001b[1;33m.\u001b[0m\u001b[0mdel_buttons\u001b[0m\u001b[1;33m:\u001b[0m\u001b[1;33m\u001b[0m\u001b[1;33m\u001b[0m\u001b[0m\n\u001b[1;32m---> 91\u001b[1;33m             \u001b[1;32mif\u001b[0m \u001b[0mb_wrap\u001b[0m\u001b[1;33m.\u001b[0m\u001b[0mdf\u001b[0m \u001b[1;33m!=\u001b[0m \u001b[1;32mNone\u001b[0m\u001b[1;33m:\u001b[0m\u001b[1;33m\u001b[0m\u001b[1;33m\u001b[0m\u001b[0m\n\u001b[0m\u001b[0;32m     92\u001b[0m                 \u001b[0mprint\u001b[0m\u001b[1;33m(\u001b[0m\u001b[0mb_wrap\u001b[0m\u001b[1;33m.\u001b[0m\u001b[0mdf\u001b[0m\u001b[1;33m)\u001b[0m\u001b[1;33m\u001b[0m\u001b[1;33m\u001b[0m\u001b[0m\n\u001b[0;32m     93\u001b[0m         \u001b[1;31m# Export paragraph dfs to xlsx to load later\u001b[0m\u001b[1;33m\u001b[0m\u001b[1;33m\u001b[0m\u001b[1;33m\u001b[0m\u001b[0m\n",
      "\u001b[1;31mAttributeError\u001b[0m: 'ButtonWrapper' object has no attribute 'df'"
     ]
    },
    {
     "ename": "SystemExit",
     "evalue": "0",
     "output_type": "error",
     "traceback": [
      "An exception has occurred, use %tb to see the full traceback.\n",
      "\u001b[1;31mSystemExit\u001b[0m\u001b[1;31m:\u001b[0m 0\n"
     ]
    }
   ],
   "source": [
    "# Create and show the form\n",
    "form = Form(paragraphs_df)\n",
    "form.show()\n",
    "# Run the main Qt loop\n",
    "sys.exit(app.exec_())"
   ]
  },
  {
   "cell_type": "code",
   "execution_count": null,
   "metadata": {},
   "outputs": [],
   "source": []
  },
  {
   "cell_type": "markdown",
   "metadata": {},
   "source": [
    "# This Section opens excel worksheet template and writes to it!\n",
    "1. Read input:\n",
    "    - Ingredient list\n",
    "    - Product name\n",
    "    - Product type\n",
    "    - Customer name\n",
    "2. Open corresponding excel template to product type\n",
    "3. Fill out header information\n",
    "4. Go through ingredients and fill in main table entries\n",
    "5. Run calc. function to fill grams based on product formulation\n",
    "6. Output .xlsx"
   ]
  },
  {
   "cell_type": "code",
   "execution_count": 1,
   "metadata": {},
   "outputs": [],
   "source": [
    "from openpyxl import load_workbook\n",
    "from datetime import *\n",
    "import pandas as pd"
   ]
  },
  {
   "cell_type": "code",
   "execution_count": 3,
   "metadata": {},
   "outputs": [],
   "source": [
    "## Read input\n",
    "class FormInfo:\n",
    "    def __init__(self, ingredients, prod_name, prod_type, client_name):\n",
    "        self.ingredients = ingredients\n",
    "        self.prod_name = prod_name\n",
    "        self.prod_type = prod_type\n",
    "        self.client_name = client_name\n",
    "\n",
    "form = FormInfo(\"Horse Chestnut Extract, Kaolin Clay, Aloe Vera Juice, Carrot Seed Essential Oil\", \n",
    "                \"Night Cream\", \"Cleansing Lotion\", \"Jane Doe\")"
   ]
  },
  {
   "cell_type": "code",
   "execution_count": 4,
   "metadata": {},
   "outputs": [],
   "source": [
    "## Find correct template\n",
    "template_path = \"C:/users/jerry/Desktop/Restored To Eden/Formulation Templates/\"\n",
    "\n",
    "full_path = template_path + form.prod_type + \" Worksheet.xlsx\"\n",
    "workbook = load_workbook(filename=full_path)\n",
    "sheet = workbook.active"
   ]
  },
  {
   "cell_type": "code",
   "execution_count": 5,
   "metadata": {},
   "outputs": [],
   "source": [
    "## Fill out header info\n",
    "# Name\n",
    "sheet[\"B1\"] = form.client_name\n",
    "# Product Type\n",
    "sheet[\"B2\"] = form.prod_type\n",
    "# Product Formulation\n",
    "sheet[\"B5\"] = 100"
   ]
  },
  {
   "cell_type": "code",
   "execution_count": 6,
   "metadata": {
    "scrolled": true
   },
   "outputs": [
    {
     "data": {
      "text/html": [
       "<div>\n",
       "<style scoped>\n",
       "    .dataframe tbody tr th:only-of-type {\n",
       "        vertical-align: middle;\n",
       "    }\n",
       "\n",
       "    .dataframe tbody tr th {\n",
       "        vertical-align: top;\n",
       "    }\n",
       "\n",
       "    .dataframe thead th {\n",
       "        text-align: right;\n",
       "    }\n",
       "</style>\n",
       "<table border=\"1\" class=\"dataframe\">\n",
       "  <thead>\n",
       "    <tr style=\"text-align: right;\">\n",
       "      <th></th>\n",
       "      <th>INGREDIENT INCI NAME</th>\n",
       "      <th>In Stock</th>\n",
       "      <th>Quantity in Stock (in grams)</th>\n",
       "      <th>Supplier Name</th>\n",
       "      <th>CAS NO.</th>\n",
       "      <th>NICNAS Check Completed</th>\n",
       "      <th>Product Type</th>\n",
       "      <th>Skin Type</th>\n",
       "      <th>TYPE OF INGREDIENT</th>\n",
       "      <th>ESSENTIAL OIL NOTE</th>\n",
       "      <th>...</th>\n",
       "      <th>VISCOSITY</th>\n",
       "      <th>ABSORPTION RATE</th>\n",
       "      <th>COMEDOGENIC RATING</th>\n",
       "      <th>Composition</th>\n",
       "      <th>Recommended Concentration</th>\n",
       "      <th>Allergens</th>\n",
       "      <th>Relevant References</th>\n",
       "      <th>Other Important Information</th>\n",
       "      <th>4</th>\n",
       "      <th>K</th>\n",
       "    </tr>\n",
       "    <tr>\n",
       "      <th>INGREDIENT COMMON NAME</th>\n",
       "      <th></th>\n",
       "      <th></th>\n",
       "      <th></th>\n",
       "      <th></th>\n",
       "      <th></th>\n",
       "      <th></th>\n",
       "      <th></th>\n",
       "      <th></th>\n",
       "      <th></th>\n",
       "      <th></th>\n",
       "      <th></th>\n",
       "      <th></th>\n",
       "      <th></th>\n",
       "      <th></th>\n",
       "      <th></th>\n",
       "      <th></th>\n",
       "      <th></th>\n",
       "      <th></th>\n",
       "      <th></th>\n",
       "      <th></th>\n",
       "      <th></th>\n",
       "    </tr>\n",
       "  </thead>\n",
       "  <tbody>\n",
       "    <tr>\n",
       "      <th>Acai Oil Certified Organic</th>\n",
       "      <td>Euterpe oleracea (Acai) oil (certified organic)</td>\n",
       "      <td>Yes</td>\n",
       "      <td>NaN</td>\n",
       "      <td>AWO</td>\n",
       "      <td>NaN</td>\n",
       "      <td>No</td>\n",
       "      <td>Anhydrous</td>\n",
       "      <td>Dry Skin,Sensitive &amp; Eczema Prone Skin,Mature ...</td>\n",
       "      <td>Carrier Oil,anhydrous base</td>\n",
       "      <td>NaN</td>\n",
       "      <td>...</td>\n",
       "      <td>Light</td>\n",
       "      <td>Fast</td>\n",
       "      <td>2.0</td>\n",
       "      <td>NaN</td>\n",
       "      <td>NaN</td>\n",
       "      <td>NaN</td>\n",
       "      <td>NaN</td>\n",
       "      <td>NaN</td>\n",
       "      <td>NaN</td>\n",
       "      <td>NaN</td>\n",
       "    </tr>\n",
       "    <tr>\n",
       "      <th>Aloe Vera Juice</th>\n",
       "      <td>Aloe Barbadensis (Aloe Vera) juice</td>\n",
       "      <td>Yes</td>\n",
       "      <td>NaN</td>\n",
       "      <td>ND</td>\n",
       "      <td>NaN</td>\n",
       "      <td>Yes</td>\n",
       "      <td>NaN</td>\n",
       "      <td>Mature &amp; Aging Skin</td>\n",
       "      <td>Extract,aqueous high performance</td>\n",
       "      <td>NaN</td>\n",
       "      <td>...</td>\n",
       "      <td>NaN</td>\n",
       "      <td>NaN</td>\n",
       "      <td>NaN</td>\n",
       "      <td>NaN</td>\n",
       "      <td>NaN</td>\n",
       "      <td>NaN</td>\n",
       "      <td>Aloe Vera powder and purified Aqua - and prese...</td>\n",
       "      <td>NaN</td>\n",
       "      <td>NaN</td>\n",
       "      <td>NaN</td>\n",
       "    </tr>\n",
       "    <tr>\n",
       "      <th>Alpinia Leaf</th>\n",
       "      <td>NaN</td>\n",
       "      <td>NaN</td>\n",
       "      <td>NaN</td>\n",
       "      <td>NaN</td>\n",
       "      <td>NaN</td>\n",
       "      <td>NaN</td>\n",
       "      <td>NaN</td>\n",
       "      <td>Mature &amp; Aging Skin</td>\n",
       "      <td>Extract,aqueous high performance</td>\n",
       "      <td>NaN</td>\n",
       "      <td>...</td>\n",
       "      <td>NaN</td>\n",
       "      <td>NaN</td>\n",
       "      <td>NaN</td>\n",
       "      <td>NaN</td>\n",
       "      <td>NaN</td>\n",
       "      <td>NaN</td>\n",
       "      <td>NaN</td>\n",
       "      <td>NaN</td>\n",
       "      <td>NaN</td>\n",
       "      <td>NaN</td>\n",
       "    </tr>\n",
       "    <tr>\n",
       "      <th>Alpinia Root</th>\n",
       "      <td>NaN</td>\n",
       "      <td>NaN</td>\n",
       "      <td>NaN</td>\n",
       "      <td>NaN</td>\n",
       "      <td>NaN</td>\n",
       "      <td>NaN</td>\n",
       "      <td>NaN</td>\n",
       "      <td>Mature &amp; Aging Skin</td>\n",
       "      <td>NaN</td>\n",
       "      <td>NaN</td>\n",
       "      <td>...</td>\n",
       "      <td>NaN</td>\n",
       "      <td>NaN</td>\n",
       "      <td>NaN</td>\n",
       "      <td>NaN</td>\n",
       "      <td>NaN</td>\n",
       "      <td>NaN</td>\n",
       "      <td>NaN</td>\n",
       "      <td>NaN</td>\n",
       "      <td>NaN</td>\n",
       "      <td>NaN</td>\n",
       "    </tr>\n",
       "    <tr>\n",
       "      <th>Apricot Kernel Oil</th>\n",
       "      <td>Prunus armeniaca (Apricot) kernel oil (certifi...</td>\n",
       "      <td>Yes</td>\n",
       "      <td>NaN</td>\n",
       "      <td>AWO</td>\n",
       "      <td>NaN</td>\n",
       "      <td>Yes</td>\n",
       "      <td>Anhydrous,Emulsion</td>\n",
       "      <td>Dry Skin,Sensitive &amp; Eczema Prone Skin,Mature ...</td>\n",
       "      <td>Carrier Oil,anhydrous base</td>\n",
       "      <td>NaN</td>\n",
       "      <td>...</td>\n",
       "      <td>Light</td>\n",
       "      <td>Fast</td>\n",
       "      <td>2.0</td>\n",
       "      <td>NaN</td>\n",
       "      <td>NaN</td>\n",
       "      <td>NaN</td>\n",
       "      <td>Review Article\\nPolyphenols as active ingredie...</td>\n",
       "      <td>Thinner consistency\\nCleansing properties\\n\\nA...</td>\n",
       "      <td>NaN</td>\n",
       "      <td>NaN</td>\n",
       "    </tr>\n",
       "    <tr>\n",
       "      <th>...</th>\n",
       "      <td>...</td>\n",
       "      <td>...</td>\n",
       "      <td>...</td>\n",
       "      <td>...</td>\n",
       "      <td>...</td>\n",
       "      <td>...</td>\n",
       "      <td>...</td>\n",
       "      <td>...</td>\n",
       "      <td>...</td>\n",
       "      <td>...</td>\n",
       "      <td>...</td>\n",
       "      <td>...</td>\n",
       "      <td>...</td>\n",
       "      <td>...</td>\n",
       "      <td>...</td>\n",
       "      <td>...</td>\n",
       "      <td>...</td>\n",
       "      <td>...</td>\n",
       "      <td>...</td>\n",
       "      <td>...</td>\n",
       "      <td>...</td>\n",
       "    </tr>\n",
       "    <tr>\n",
       "      <th>Vitamin E Natural (Mixed tocopherols 70%)</th>\n",
       "      <td>Mixed tocopherols 70% (Vitamin E natural)</td>\n",
       "      <td>Yes</td>\n",
       "      <td>NaN</td>\n",
       "      <td>AWO</td>\n",
       "      <td>7695-91-2</td>\n",
       "      <td>No</td>\n",
       "      <td>Anhydrous,Emulsion</td>\n",
       "      <td>Mature &amp; Aging Skin</td>\n",
       "      <td>Antioxidant,anhydrous high performance</td>\n",
       "      <td>NaN</td>\n",
       "      <td>...</td>\n",
       "      <td>NaN</td>\n",
       "      <td>NaN</td>\n",
       "      <td>NaN</td>\n",
       "      <td>NaN</td>\n",
       "      <td>0.5%-2%</td>\n",
       "      <td>NaN</td>\n",
       "      <td>NaN</td>\n",
       "      <td>Components: Mixed Tocopherols (d-alpha-, d-bet...</td>\n",
       "      <td>NaN</td>\n",
       "      <td>NaN</td>\n",
       "    </tr>\n",
       "    <tr>\n",
       "      <th>Walnut Oil</th>\n",
       "      <td>NaN</td>\n",
       "      <td>No</td>\n",
       "      <td>NaN</td>\n",
       "      <td>NaN</td>\n",
       "      <td>NaN</td>\n",
       "      <td>NaN</td>\n",
       "      <td>NaN</td>\n",
       "      <td>NaN</td>\n",
       "      <td>Carrier Oil,anhydrous base</td>\n",
       "      <td>NaN</td>\n",
       "      <td>...</td>\n",
       "      <td>NaN</td>\n",
       "      <td>Medium</td>\n",
       "      <td>2.0</td>\n",
       "      <td>NaN</td>\n",
       "      <td>NaN</td>\n",
       "      <td>NaN</td>\n",
       "      <td>NaN</td>\n",
       "      <td>NaN</td>\n",
       "      <td>NaN</td>\n",
       "      <td>NaN</td>\n",
       "    </tr>\n",
       "    <tr>\n",
       "      <th>White Willow Bark</th>\n",
       "      <td>NaN</td>\n",
       "      <td>NaN</td>\n",
       "      <td>NaN</td>\n",
       "      <td>NaN</td>\n",
       "      <td>NaN</td>\n",
       "      <td>NaN</td>\n",
       "      <td>NaN</td>\n",
       "      <td>Sensitive &amp; Eczema Prone Skin</td>\n",
       "      <td>Extract,aqueous high performance</td>\n",
       "      <td>NaN</td>\n",
       "      <td>...</td>\n",
       "      <td>NaN</td>\n",
       "      <td>NaN</td>\n",
       "      <td>NaN</td>\n",
       "      <td>NaN</td>\n",
       "      <td>NaN</td>\n",
       "      <td>NaN</td>\n",
       "      <td>NaN</td>\n",
       "      <td>NaN</td>\n",
       "      <td>NaN</td>\n",
       "      <td>NaN</td>\n",
       "    </tr>\n",
       "    <tr>\n",
       "      <th>Witch Hazel Infused Water</th>\n",
       "      <td>Hamamelis virginiana</td>\n",
       "      <td>Yes</td>\n",
       "      <td>NaN</td>\n",
       "      <td>NaN</td>\n",
       "      <td>NaN</td>\n",
       "      <td>Yes</td>\n",
       "      <td>NaN</td>\n",
       "      <td>Sensitive &amp; Eczema Prone Skin</td>\n",
       "      <td>Aqueous high performance</td>\n",
       "      <td>NaN</td>\n",
       "      <td>...</td>\n",
       "      <td>NaN</td>\n",
       "      <td>NaN</td>\n",
       "      <td>NaN</td>\n",
       "      <td>NaN</td>\n",
       "      <td>NaN</td>\n",
       "      <td>NaN</td>\n",
       "      <td>NaN</td>\n",
       "      <td>NaN</td>\n",
       "      <td>NaN</td>\n",
       "      <td>NaN</td>\n",
       "    </tr>\n",
       "    <tr>\n",
       "      <th>Ylang Ylang</th>\n",
       "      <td>Cananga odorata (Ylang Ylang) flower essential...</td>\n",
       "      <td>Yes</td>\n",
       "      <td>NaN</td>\n",
       "      <td>NaN</td>\n",
       "      <td>NaN</td>\n",
       "      <td>Yes</td>\n",
       "      <td>Anhydrous,Emulsion</td>\n",
       "      <td>Dry Skin,Oily &amp; Acne Prone Skin</td>\n",
       "      <td>Essential Oil</td>\n",
       "      <td>Base</td>\n",
       "      <td>...</td>\n",
       "      <td>NaN</td>\n",
       "      <td>NaN</td>\n",
       "      <td>NaN</td>\n",
       "      <td>NaN</td>\n",
       "      <td>NaN</td>\n",
       "      <td>NaN</td>\n",
       "      <td>NaN</td>\n",
       "      <td>Contracindications : New Directions Aromatics ...</td>\n",
       "      <td>NaN</td>\n",
       "      <td>NaN</td>\n",
       "    </tr>\n",
       "  </tbody>\n",
       "</table>\n",
       "<p>110 rows × 25 columns</p>\n",
       "</div>"
      ],
      "text/plain": [
       "                                                                        INGREDIENT INCI NAME  \\\n",
       "INGREDIENT COMMON NAME                                                                         \n",
       "Acai Oil Certified Organic                   Euterpe oleracea (Acai) oil (certified organic)   \n",
       "Aloe Vera Juice                                           Aloe Barbadensis (Aloe Vera) juice   \n",
       "Alpinia Leaf                                                                             NaN   \n",
       "Alpinia Root                                                                             NaN   \n",
       "Apricot Kernel Oil                         Prunus armeniaca (Apricot) kernel oil (certifi...   \n",
       "...                                                                                      ...   \n",
       "Vitamin E Natural (Mixed tocopherols 70%)          Mixed tocopherols 70% (Vitamin E natural)   \n",
       "Walnut Oil                                                                               NaN   \n",
       "White Willow Bark                                                                        NaN   \n",
       "Witch Hazel Infused Water                                               Hamamelis virginiana   \n",
       "Ylang Ylang                                Cananga odorata (Ylang Ylang) flower essential...   \n",
       "\n",
       "                                          In Stock  \\\n",
       "INGREDIENT COMMON NAME                               \n",
       "Acai Oil Certified Organic                     Yes   \n",
       "Aloe Vera Juice                                Yes   \n",
       "Alpinia Leaf                                   NaN   \n",
       "Alpinia Root                                   NaN   \n",
       "Apricot Kernel Oil                             Yes   \n",
       "...                                            ...   \n",
       "Vitamin E Natural (Mixed tocopherols 70%)      Yes   \n",
       "Walnut Oil                                      No   \n",
       "White Willow Bark                              NaN   \n",
       "Witch Hazel Infused Water                      Yes   \n",
       "Ylang Ylang                                    Yes   \n",
       "\n",
       "                                           Quantity in Stock (in grams)  \\\n",
       "INGREDIENT COMMON NAME                                                    \n",
       "Acai Oil Certified Organic                                          NaN   \n",
       "Aloe Vera Juice                                                     NaN   \n",
       "Alpinia Leaf                                                        NaN   \n",
       "Alpinia Root                                                        NaN   \n",
       "Apricot Kernel Oil                                                  NaN   \n",
       "...                                                                 ...   \n",
       "Vitamin E Natural (Mixed tocopherols 70%)                           NaN   \n",
       "Walnut Oil                                                          NaN   \n",
       "White Willow Bark                                                   NaN   \n",
       "Witch Hazel Infused Water                                           NaN   \n",
       "Ylang Ylang                                                         NaN   \n",
       "\n",
       "                                          Supplier Name    CAS NO.  \\\n",
       "INGREDIENT COMMON NAME                                               \n",
       "Acai Oil Certified Organic                          AWO        NaN   \n",
       "Aloe Vera Juice                                      ND        NaN   \n",
       "Alpinia Leaf                                        NaN        NaN   \n",
       "Alpinia Root                                        NaN        NaN   \n",
       "Apricot Kernel Oil                                  AWO        NaN   \n",
       "...                                                 ...        ...   \n",
       "Vitamin E Natural (Mixed tocopherols 70%)           AWO  7695-91-2   \n",
       "Walnut Oil                                          NaN        NaN   \n",
       "White Willow Bark                                   NaN        NaN   \n",
       "Witch Hazel Infused Water                           NaN        NaN   \n",
       "Ylang Ylang                                         NaN        NaN   \n",
       "\n",
       "                                          NICNAS Check Completed  \\\n",
       "INGREDIENT COMMON NAME                                             \n",
       "Acai Oil Certified Organic                                    No   \n",
       "Aloe Vera Juice                                              Yes   \n",
       "Alpinia Leaf                                                 NaN   \n",
       "Alpinia Root                                                 NaN   \n",
       "Apricot Kernel Oil                                           Yes   \n",
       "...                                                          ...   \n",
       "Vitamin E Natural (Mixed tocopherols 70%)                     No   \n",
       "Walnut Oil                                                   NaN   \n",
       "White Willow Bark                                            NaN   \n",
       "Witch Hazel Infused Water                                    Yes   \n",
       "Ylang Ylang                                                  Yes   \n",
       "\n",
       "                                                 Product Type  \\\n",
       "INGREDIENT COMMON NAME                                          \n",
       "Acai Oil Certified Organic                          Anhydrous   \n",
       "Aloe Vera Juice                                           NaN   \n",
       "Alpinia Leaf                                              NaN   \n",
       "Alpinia Root                                              NaN   \n",
       "Apricot Kernel Oil                         Anhydrous,Emulsion   \n",
       "...                                                       ...   \n",
       "Vitamin E Natural (Mixed tocopherols 70%)  Anhydrous,Emulsion   \n",
       "Walnut Oil                                                NaN   \n",
       "White Willow Bark                                         NaN   \n",
       "Witch Hazel Infused Water                                 NaN   \n",
       "Ylang Ylang                                Anhydrous,Emulsion   \n",
       "\n",
       "                                                                                   Skin Type  \\\n",
       "INGREDIENT COMMON NAME                                                                         \n",
       "Acai Oil Certified Organic                 Dry Skin,Sensitive & Eczema Prone Skin,Mature ...   \n",
       "Aloe Vera Juice                                                          Mature & Aging Skin   \n",
       "Alpinia Leaf                                                             Mature & Aging Skin   \n",
       "Alpinia Root                                                             Mature & Aging Skin   \n",
       "Apricot Kernel Oil                         Dry Skin,Sensitive & Eczema Prone Skin,Mature ...   \n",
       "...                                                                                      ...   \n",
       "Vitamin E Natural (Mixed tocopherols 70%)                                Mature & Aging Skin   \n",
       "Walnut Oil                                                                               NaN   \n",
       "White Willow Bark                                              Sensitive & Eczema Prone Skin   \n",
       "Witch Hazel Infused Water                                      Sensitive & Eczema Prone Skin   \n",
       "Ylang Ylang                                                  Dry Skin,Oily & Acne Prone Skin   \n",
       "\n",
       "                                                               TYPE OF INGREDIENT  \\\n",
       "INGREDIENT COMMON NAME                                                              \n",
       "Acai Oil Certified Organic                             Carrier Oil,anhydrous base   \n",
       "Aloe Vera Juice                                  Extract,aqueous high performance   \n",
       "Alpinia Leaf                                     Extract,aqueous high performance   \n",
       "Alpinia Root                                                                  NaN   \n",
       "Apricot Kernel Oil                                     Carrier Oil,anhydrous base   \n",
       "...                                                                           ...   \n",
       "Vitamin E Natural (Mixed tocopherols 70%)  Antioxidant,anhydrous high performance   \n",
       "Walnut Oil                                             Carrier Oil,anhydrous base   \n",
       "White Willow Bark                                Extract,aqueous high performance   \n",
       "Witch Hazel Infused Water                                Aqueous high performance   \n",
       "Ylang Ylang                                                         Essential Oil   \n",
       "\n",
       "                                          ESSENTIAL OIL NOTE  ... VISCOSITY  \\\n",
       "INGREDIENT COMMON NAME                                        ...             \n",
       "Acai Oil Certified Organic                               NaN  ...     Light   \n",
       "Aloe Vera Juice                                          NaN  ...       NaN   \n",
       "Alpinia Leaf                                             NaN  ...       NaN   \n",
       "Alpinia Root                                             NaN  ...       NaN   \n",
       "Apricot Kernel Oil                                       NaN  ...     Light   \n",
       "...                                                      ...  ...       ...   \n",
       "Vitamin E Natural (Mixed tocopherols 70%)                NaN  ...       NaN   \n",
       "Walnut Oil                                               NaN  ...       NaN   \n",
       "White Willow Bark                                        NaN  ...       NaN   \n",
       "Witch Hazel Infused Water                                NaN  ...       NaN   \n",
       "Ylang Ylang                                             Base  ...       NaN   \n",
       "\n",
       "                                          ABSORPTION RATE COMEDOGENIC RATING  \\\n",
       "INGREDIENT COMMON NAME                                                         \n",
       "Acai Oil Certified Organic                           Fast                2.0   \n",
       "Aloe Vera Juice                                       NaN                NaN   \n",
       "Alpinia Leaf                                          NaN                NaN   \n",
       "Alpinia Root                                          NaN                NaN   \n",
       "Apricot Kernel Oil                                   Fast                2.0   \n",
       "...                                                   ...                ...   \n",
       "Vitamin E Natural (Mixed tocopherols 70%)             NaN                NaN   \n",
       "Walnut Oil                                         Medium                2.0   \n",
       "White Willow Bark                                     NaN                NaN   \n",
       "Witch Hazel Infused Water                             NaN                NaN   \n",
       "Ylang Ylang                                           NaN                NaN   \n",
       "\n",
       "                                          Composition  \\\n",
       "INGREDIENT COMMON NAME                                  \n",
       "Acai Oil Certified Organic                        NaN   \n",
       "Aloe Vera Juice                                   NaN   \n",
       "Alpinia Leaf                                      NaN   \n",
       "Alpinia Root                                      NaN   \n",
       "Apricot Kernel Oil                                NaN   \n",
       "...                                               ...   \n",
       "Vitamin E Natural (Mixed tocopherols 70%)         NaN   \n",
       "Walnut Oil                                        NaN   \n",
       "White Willow Bark                                 NaN   \n",
       "Witch Hazel Infused Water                         NaN   \n",
       "Ylang Ylang                                       NaN   \n",
       "\n",
       "                                          Recommended Concentration Allergens  \\\n",
       "INGREDIENT COMMON NAME                                                          \n",
       "Acai Oil Certified Organic                                      NaN       NaN   \n",
       "Aloe Vera Juice                                                 NaN       NaN   \n",
       "Alpinia Leaf                                                    NaN       NaN   \n",
       "Alpinia Root                                                    NaN       NaN   \n",
       "Apricot Kernel Oil                                              NaN       NaN   \n",
       "...                                                             ...       ...   \n",
       "Vitamin E Natural (Mixed tocopherols 70%)                   0.5%-2%       NaN   \n",
       "Walnut Oil                                                      NaN       NaN   \n",
       "White Willow Bark                                               NaN       NaN   \n",
       "Witch Hazel Infused Water                                       NaN       NaN   \n",
       "Ylang Ylang                                                     NaN       NaN   \n",
       "\n",
       "                                                                         Relevant References  \\\n",
       "INGREDIENT COMMON NAME                                                                         \n",
       "Acai Oil Certified Organic                                                               NaN   \n",
       "Aloe Vera Juice                            Aloe Vera powder and purified Aqua - and prese...   \n",
       "Alpinia Leaf                                                                             NaN   \n",
       "Alpinia Root                                                                             NaN   \n",
       "Apricot Kernel Oil                         Review Article\\nPolyphenols as active ingredie...   \n",
       "...                                                                                      ...   \n",
       "Vitamin E Natural (Mixed tocopherols 70%)                                                NaN   \n",
       "Walnut Oil                                                                               NaN   \n",
       "White Willow Bark                                                                        NaN   \n",
       "Witch Hazel Infused Water                                                                NaN   \n",
       "Ylang Ylang                                                                              NaN   \n",
       "\n",
       "                                                                 Other Important Information  \\\n",
       "INGREDIENT COMMON NAME                                                                         \n",
       "Acai Oil Certified Organic                                                               NaN   \n",
       "Aloe Vera Juice                                                                          NaN   \n",
       "Alpinia Leaf                                                                             NaN   \n",
       "Alpinia Root                                                                             NaN   \n",
       "Apricot Kernel Oil                         Thinner consistency\\nCleansing properties\\n\\nA...   \n",
       "...                                                                                      ...   \n",
       "Vitamin E Natural (Mixed tocopherols 70%)  Components: Mixed Tocopherols (d-alpha-, d-bet...   \n",
       "Walnut Oil                                                                               NaN   \n",
       "White Willow Bark                                                                        NaN   \n",
       "Witch Hazel Infused Water                                                                NaN   \n",
       "Ylang Ylang                                Contracindications : New Directions Aromatics ...   \n",
       "\n",
       "                                            4   K  \n",
       "INGREDIENT COMMON NAME                             \n",
       "Acai Oil Certified Organic                NaN NaN  \n",
       "Aloe Vera Juice                           NaN NaN  \n",
       "Alpinia Leaf                              NaN NaN  \n",
       "Alpinia Root                              NaN NaN  \n",
       "Apricot Kernel Oil                        NaN NaN  \n",
       "...                                        ..  ..  \n",
       "Vitamin E Natural (Mixed tocopherols 70%) NaN NaN  \n",
       "Walnut Oil                                NaN NaN  \n",
       "White Willow Bark                         NaN NaN  \n",
       "Witch Hazel Infused Water                 NaN NaN  \n",
       "Ylang Ylang                               NaN NaN  \n",
       "\n",
       "[110 rows x 25 columns]"
      ]
     },
     "execution_count": 6,
     "metadata": {},
     "output_type": "execute_result"
    }
   ],
   "source": [
    "## Fill out main table entries\n",
    "ingredients_df = pd.read_csv(\"C:/users/jerry/Desktop/Restored To Eden/RTE Ingredients Database.csv\", \n",
    "                               encoding = \"ISO-8859-1\").set_index(\"INGREDIENT COMMON NAME\")\n",
    "ingredients_df = ingredients_df.loc[~ingredients_df.index.duplicated(keep=\"first\")]\n",
    "ingredients_df"
   ]
  },
  {
   "cell_type": "code",
   "execution_count": 14,
   "metadata": {},
   "outputs": [
    {
     "data": {
      "text/plain": [
       "'Inflamed,Irritated,Fine lines,Wrinkles,Predisposed to acne'"
      ]
     },
     "execution_count": 14,
     "metadata": {},
     "output_type": "execute_result"
    }
   ],
   "source": [
    "ingredients_df.loc[\"Aloe Vera Juice\"][\"SKIN PROBLEM\"]"
   ]
  },
  {
   "cell_type": "code",
   "execution_count": 13,
   "metadata": {},
   "outputs": [
    {
     "data": {
      "text/plain": [
       "'total grams/\\namount in grams'"
      ]
     },
     "execution_count": 13,
     "metadata": {},
     "output_type": "execute_result"
    }
   ],
   "source": [
    "sheet[f\"E{6}\"].value.lower()"
   ]
  },
  {
   "cell_type": "code",
   "execution_count": 12,
   "metadata": {},
   "outputs": [],
   "source": [
    "# get list of ingredients\n",
    "ingredients = form.ingredients.split(\",\")\n",
    "\n",
    "realloc = 0\n",
    "cell_dict = {}\n",
    "# Fill main table entries\n",
    "i = 0  # ingredient index\n",
    "j = 7  # cell index\n",
    "while i < len(ingredients):\n",
    "    \n",
    "    # Stop loop if reached end of template\n",
    "    if type(sheet[f\"A{j}\"]) != type(0.0):\n",
    "        break\n",
    "        \n",
    "    ingredient_name = ingredients[i]\n",
    "    \n",
    "    # Fill cell if ingredient is same type as template\n",
    "    if ingredients_df.loc[ingredient_name][\"TYPE OF INGREDIENT\"] in sheet[f\"B{j}\"].value:\n",
    "        # Fill INCI\n",
    "        sheet[f\"A{j}\"] = ingredients_df[[\"INGREDIENT INCI NAME\"]]\n",
    "        # Fill ingredient name\n",
    "        sheet[f\"B{j}\"] = ingredient_name\n",
    "        # Fill needs targted column if applicable\n",
    "        try:\n",
    "            if sheet[f\"F{6}\"].value.lower() == \"needs targetting\":\n",
    "                sheet[f\"F{6}\"] = ingredients_df.loc[ingredient_name][\"SKIN PROBLEM\"]\n",
    "        except:\n",
    "            print(\"No needs targetting column.\")\n",
    "        \n",
    "        # Store cell and value for realloc\n",
    "        cell_dict[f\"D{j}\"] = sheet[f\"D{j}\"].value\n",
    "        i += 1\n",
    "        j += 1\n",
    "\n",
    "    # Otherwise record missing % chunk\n",
    "    else:\n",
    "        print(sheet[f\"D{j}\"].value)\n",
    "        realloc += sheet[f\"D{j}\"].value\n",
    "        cell_dict[f\"D{j}\"] = 0\n",
    "        j += 1\n",
    "\n",
    "# Reallocate surplus %\n",
    "if realloc > 0:\n",
    "    realloc_chunks(realloc, cell_dict, sheet)"
   ]
  },
  {
   "cell_type": "code",
   "execution_count": null,
   "metadata": {},
   "outputs": [],
   "source": []
  },
  {
   "cell_type": "code",
   "execution_count": 70,
   "metadata": {},
   "outputs": [],
   "source": [
    "cell_dict = {\"D7\": 75.0, \"D8\": 5.0, \"D9\": 2.0, \n",
    "             \"D10\": 6.5, \"D11\": 5.0, \"D12\": 2.0, \"D13\": 0.0}\n",
    "realloc = 4.5\n",
    "\n",
    "def realloc_chunks(realloc, cell_dict, sheet):\n",
    "    ## Percentage reallocator\n",
    "    tot = sum(cell_dict.values())\n",
    "    for i in range(len(cell_dict)):\n",
    "        cur_num = list(cell_dict.values())[i]\n",
    "        cell_dict[list(cell_dict.keys())[i]] = cur_num + (cur_num / tot) * realloc \n",
    "\n",
    "    return cell_dict\n",
    "\n",
    "def write_weights(cell_dict, sheet): \n",
    "    del_rows = []\n",
    "    # Write realloc chunks to sheet\n",
    "    for cell in cell_dict.keys():\n",
    "        # record row for deletion\n",
    "        if (cell_dict[cell]) == 0:\n",
    "            del_rows.append(cell)\n",
    "        sheet[cell] = cell_dict[cell]\n",
    "    \n",
    "        \n",
    "    # delete empty rows\n",
    "    for cell in del_rows:\n",
    "        sheet.delete_rows((int)(cell[1:]))\n",
    "        \n",
    "    return sheet\n",
    "        \n",
    "realloc_dict = realloc_chunks(realloc, cell_dict, sheet)\n",
    "sheet = write_weights(realloc_dict, sheet)"
   ]
  },
  {
   "cell_type": "code",
   "execution_count": 71,
   "metadata": {},
   "outputs": [],
   "source": [
    "## Export\n",
    "save_path = \"C:/users/jerry/Desktop/Restored To Eden/test forms/\"\n",
    "workbook.save(save_path + form.client_name + \"-\" + form.prod_type + \".xlsx\")"
   ]
  },
  {
   "cell_type": "code",
   "execution_count": null,
   "metadata": {},
   "outputs": [],
   "source": []
  },
  {
   "cell_type": "code",
   "execution_count": null,
   "metadata": {},
   "outputs": [],
   "source": []
  },
  {
   "cell_type": "code",
   "execution_count": 4,
   "metadata": {},
   "outputs": [
    {
     "name": "stdout",
     "output_type": "stream",
     "text": [
      "Your browser has been opened to visit:\n",
      "\n",
      "    https://accounts.google.com/o/oauth2/auth?client_id=54206686856-fa4bd9fgt5vq81l7ipdvv8e3s9137jmq.apps.googleusercontent.com&redirect_uri=http%3A%2F%2Flocalhost%3A8080%2F&scope=https%3A%2F%2Fwww.googleapis.com%2Fauth%2Fdrive&access_type=offline&response_type=code\n",
      "\n",
      "Authentication successful.\n",
      "<class 'str'>\n"
     ]
    }
   ],
   "source": [
    "# Upload file to google drive\n",
    "from pydrive.auth import GoogleAuth\n",
    "from pydrive.drive import GoogleDrive\n",
    "\n",
    "# For listdir() function\n",
    "import os\n",
    "\n",
    "# Authenication\n",
    "g_login = GoogleAuth()\n",
    "# Create local webserver and auto handles authentication\n",
    "g_login.LocalWebserverAuth()\n",
    "drive = GoogleDrive(g_login)\n",
    "\n",
    "# Directory of the file to upload\n",
    "path = os.getcwd() + r\"\\test forms\"\n",
    "\n",
    "for x in os.listdir(path):\n",
    "    print(type(x))\n",
    "    f = drive.CreateFile({'title': x})\n",
    "    f.SetContentFile(os.path.join(path, x))\n",
    "    f.Upload()\n",
    "    # Clear variable to prevent memory leak\n",
    "    f = None"
   ]
  },
  {
   "cell_type": "code",
   "execution_count": null,
   "metadata": {},
   "outputs": [],
   "source": []
  },
  {
   "cell_type": "markdown",
   "metadata": {},
   "source": [
    "# Config File Testing"
   ]
  },
  {
   "cell_type": "code",
   "execution_count": 23,
   "metadata": {},
   "outputs": [
    {
     "data": {
      "text/plain": [
       "{'ConstraintSettings': {'DayCream': {'Viscosity': 'Light',\n",
       "   'Absorbency': 'Fast'},\n",
       "  'ManCream': {'Viscosity': 'Medium', 'Absorbency': 'Medium'},\n",
       "  'NightCream': {'Viscosity': 'Heavy', 'Absorbency': 'Slow'},\n",
       "  'OilCleanser': {'Viscosity': 'Medium', 'Absorbency': 'Medium'}},\n",
       " 'Viscosity': ['light', 'medium', 'heavy'],\n",
       " 'Absorbency': ['slow', 'medium', 'fast'],\n",
       " 'ComedogenicRating': [0, 1, 2, 3, 4, 5]}"
      ]
     },
     "execution_count": 23,
     "metadata": {},
     "output_type": "execute_result"
    }
   ],
   "source": [
    "import json\n",
    "# Json is a dictionary in python\n",
    "Config = {\"ConstraintSettings\": {\n",
    "    \"DayCream\": {\"Viscosity\": \"Light\", \"Absorbency\": \"Fast\"},\n",
    "    \"ManCream\": {\"Viscosity\": \"Medium\", \"Absorbency\": \"Medium\"},\n",
    "    \"NightCream\": {\"Viscosity\": \"Heavy\", \"Absorbency\": \"Slow\"},\n",
    "    \"OilCleanser\": {\"Viscosity\": \"Medium\", \"Absorbency\": \"Medium\"}\n",
    "},\n",
    "          \"Viscosity\": [\"light\", \"medium\", \"heavy\"],\n",
    "          \"Absorbency\": [\"slow\", \"medium\", \"fast\"],\n",
    "          \"ComedogenicRating\": [0, 1, 2 ,3 ,4 ,5]}\n",
    "# Writing config file to output\n",
    "json_obj = json.dumps(Config, indent=4)\n",
    "with open(\"config.json\", \"w\") as outfile:\n",
    "    outfile.write(json_obj)\n",
    "    \n",
    "# Reading config file\n",
    "with open(\"config.json\") as json_file:\n",
    "    data = json.load(json_file)\n",
    "data"
   ]
  },
  {
   "cell_type": "markdown",
   "metadata": {},
   "source": [
    "# Find distance between 2 lines"
   ]
  },
  {
   "cell_type": "code",
   "execution_count": 25,
   "metadata": {},
   "outputs": [
    {
     "data": {
      "text/plain": [
       "(1, 1, 0)"
      ]
     },
     "execution_count": 25,
     "metadata": {},
     "output_type": "execute_result"
    }
   ],
   "source": [
    "# Get coordinates by coverting categorical data to numeric\n",
    "# Line coords: (x=Viscosity, y=Absorbency, z=Comedogenic rating)\n",
    "product_type = \"OilCleanser\"\n",
    "# Find coordinates of points (a) for optimum\n",
    "try:\n",
    "    x1_str = data[\"ConstraintSettings\"][product_type][\"Viscosity\"].lower()\n",
    "    x1 = [option.lower() for option in data[\"Viscosity\"]].index(x1_str)\n",
    "except:\n",
    "    x1 = 0\n",
    "\n",
    "try:\n",
    "    y1_str = data[\"ConstraintSettings\"][product_type][\"Absorbency\"].lower()\n",
    "    y1 = [option.lower() for option in data[\"Absorbency\"]].index(y1_str)\n",
    "except:\n",
    "    y1 = 0\n",
    "\n",
    "try:\n",
    "    z1_str = data[\"ConstraintSettings\"][product_type][\"ComedogenicRating\"].lower()\n",
    "    z1 = [option.lower() for option in data[\"ComedogenicRating\"]].index(z1_str)\n",
    "except:\n",
    "    z1 = 0\n",
    "    \n",
    "a1 = (x1, y1, z1)\n",
    "\n",
    "# a2 is the point of the selected ingredient list - take average of all ingredients?\n",
    "# Since all points go through origin the directional vector is just the vector itself"
   ]
  },
  {
   "cell_type": "code",
   "execution_count": 36,
   "metadata": {},
   "outputs": [
    {
     "data": {
      "text/plain": [
       "2.1213203435596424"
      ]
     },
     "execution_count": 36,
     "metadata": {},
     "output_type": "execute_result"
    }
   ],
   "source": [
    "import numpy as np\n",
    "# distance between 2 skew lines\n",
    "# Points\n",
    "a1 = [0, 2, -1]\n",
    "a2 = [1, 0, -1]\n",
    "# Direction vectors\n",
    "b1 = [1, 1, 2]\n",
    "b2 = [1, 1, 3]\n",
    "\n",
    "PQ = []\n",
    "for i in range(len(a1)):\n",
    "    PQ.append(a2[i] - a1[i])\n",
    "    \n",
    "np.linalg.norm(np.dot(PQ, np.cross(b1, b2))) / np.linalg.norm(np.cross(b2, b1))"
   ]
  },
  {
   "cell_type": "code",
   "execution_count": null,
   "metadata": {},
   "outputs": [],
   "source": []
  }
 ],
 "metadata": {
  "kernelspec": {
   "display_name": "Python 3",
   "language": "python",
   "name": "python3"
  },
  "language_info": {
   "codemirror_mode": {
    "name": "ipython",
    "version": 3
   },
   "file_extension": ".py",
   "mimetype": "text/x-python",
   "name": "python",
   "nbconvert_exporter": "python",
   "pygments_lexer": "ipython3",
   "version": "3.7.5"
  }
 },
 "nbformat": 4,
 "nbformat_minor": 2
}
